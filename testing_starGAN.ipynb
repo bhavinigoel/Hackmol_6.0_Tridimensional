!python main.py --mode test \
    --dataset CelebA \
    --image_size 128 \
    --c_dim 5 \
    --selected_attrs Wearing_Lipstick Gray_Hair Pale_Skin Brown_Hair Young \
    --model_save_dir='./stargan_celeba_128/models' \
    --result_dir='./stargan_celeba_128/results' \
    --image_path='/content/celeba1.jpg' \
    --attr_path='/content/data/celeba/list_attr_celeba.txt'  # Updated path
