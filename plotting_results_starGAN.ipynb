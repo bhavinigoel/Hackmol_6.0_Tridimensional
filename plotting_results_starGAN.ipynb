import matplotlib.pyplot as plt
from PIL import Image

# Paths to your images
paths = [f"/content/stargan/result_domain_{i+1}.jpg" for i in range(5)]

# Create a subplot with 5 images in 1 row
fig, axs = plt.subplots(1, 5, figsize=(20, 5))

for i, path in enumerate(paths):
    img = Image.open(path)
    axs[i].imshow(img)
    axs[i].axis('off')
    axs[i].set_title(f'Domain {i+1}')

plt.tight_layout()
plt.show()
