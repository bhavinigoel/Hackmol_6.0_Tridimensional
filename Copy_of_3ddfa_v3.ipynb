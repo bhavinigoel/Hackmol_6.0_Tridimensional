{
  "cells": [
    {
      "cell_type": "code",
      "execution_count": null,
      "metadata": {
        "colab": {
          "base_uri": "https://localhost:8080/"
        },
        "id": "LKIqY8pNHVs2",
        "outputId": "e56a8c71-01e2-474a-8ecc-c370a7c01ef8"
      },
      "outputs": [
        {
          "name": "stdout",
          "output_type": "stream",
          "text": [
            "Cloning into '3DDFA-V3'...\n",
            "remote: Enumerating objects: 133, done.\u001b[K\n",
            "remote: Counting objects: 100% (40/40), done.\u001b[K\n",
            "remote: Compressing objects: 100% (18/18), done.\u001b[K\n",
            "remote: Total 133 (delta 30), reused 24 (delta 22), pack-reused 93 (from 1)\u001b[K\n",
            "Receiving objects: 100% (133/133), 10.33 MiB | 23.34 MiB/s, done.\n",
            "Resolving deltas: 100% (44/44), done.\n"
          ]
        }
      ],
      "source": [
        "# Clone the repo:\n",
        "!git clone https://github.com/wang-zidu/3DDFA-V3\n",
        "!cd 3DDFA-V3"
      ]
    },
    {
      "cell_type": "code",
      "execution_count": null,
      "metadata": {
        "colab": {
          "base_uri": "https://localhost:8080/"
        },
        "id": "IJRoLsFXHr87",
        "outputId": "7a327bec-edc2-4c2a-d815-93cdee05293d"
      },
      "outputs": [
        {
          "name": "stdout",
          "output_type": "stream",
          "text": [
            "--2025-04-10 06:39:50--  https://repo.anaconda.com/miniconda/Miniconda3-latest-Linux-x86_64.sh\n",
            "Resolving repo.anaconda.com (repo.anaconda.com)... 104.16.191.158, 104.16.32.241, 2606:4700::6810:bf9e, ...\n",
            "Connecting to repo.anaconda.com (repo.anaconda.com)|104.16.191.158|:443... connected.\n",
            "HTTP request sent, awaiting response... 200 OK\n",
            "Length: 154615621 (147M) [application/octet-stream]\n",
            "Saving to: ‘miniconda.sh’\n",
            "\n",
            "miniconda.sh        100%[===================>] 147.45M   132MB/s    in 1.1s    \n",
            "\n",
            "2025-04-10 06:39:51 (132 MB/s) - ‘miniconda.sh’ saved [154615621/154615621]\n",
            "\n",
            "PREFIX=/usr/local/miniconda\n",
            "Unpacking payload ...\n",
            "\n",
            "Installing base environment...\n",
            "\n",
            "Preparing transaction: ...working... done\n",
            "Executing transaction: ...working... done\n",
            "installation finished.\n",
            "WARNING:\n",
            "    You currently have a PYTHONPATH environment variable set. This may cause\n",
            "    unexpected behavior when running the Python interpreter in Miniconda3.\n",
            "    For best results, please verify that your PYTHONPATH only points to\n",
            "    directories of packages that are compatible with the Python interpreter\n",
            "    in Miniconda3: /usr/local/miniconda\n",
            "/bin/bash: line 1: conda: command not found\n"
          ]
        }
      ],
      "source": [
        "!wget https://repo.anaconda.com/miniconda/Miniconda3-latest-Linux-x86_64.sh -O miniconda.sh\n",
        "!bash miniconda.sh -b -p /usr/local/miniconda\n",
        "!rm miniconda.sh\n",
        "!export PATH=\"/usr/local/miniconda/bin:$PATH\"\n",
        "!conda init bash\n"
      ]
    },
    {
      "cell_type": "code",
      "execution_count": null,
      "metadata": {
        "id": "tWt-wgOjIGcf"
      },
      "outputs": [],
      "source": [
        "import os\n",
        "os.environ[\"PATH\"] = \"/usr/local/miniconda/bin:\" + os.environ[\"PATH\"]\n"
      ]
    },
    {
      "cell_type": "code",
      "execution_count": null,
      "metadata": {
        "colab": {
          "base_uri": "https://localhost:8080/"
        },
        "id": "pS-uxF7VII97",
        "outputId": "b418f050-4152-458b-b90d-fbfe532628f5"
      },
      "outputs": [
        {
          "name": "stdout",
          "output_type": "stream",
          "text": [
            "conda 25.1.1\n"
          ]
        }
      ],
      "source": [
        "!conda --version\n"
      ]
    },
    {
      "cell_type": "code",
      "execution_count": null,
      "metadata": {
        "colab": {
          "base_uri": "https://localhost:8080/"
        },
        "id": "_fM7k6FPHbie",
        "outputId": "f2762800-b396-4216-bccb-cd5f13e0e2f8"
      },
      "outputs": [
        {
          "name": "stdout",
          "output_type": "stream",
          "text": [
            "Channels:\n",
            " - defaults\n",
            "Platform: linux-64\n",
            "Collecting package metadata (repodata.json): - \b\b\\ \b\b| \b\b/ \b\b- \b\b\\ \b\b| \b\b/ \b\b- \b\b\\ \b\b| \b\bdone\n",
            "Solving environment: - \b\bdone\n",
            "\n",
            "\n",
            "==> WARNING: A newer version of conda exists. <==\n",
            "    current version: 25.1.1\n",
            "    latest version: 25.3.1\n",
            "\n",
            "Please update conda by running\n",
            "\n",
            "    $ conda update -n base -c defaults conda\n",
            "\n",
            "\n",
            "\n",
            "## Package Plan ##\n",
            "\n",
            "  environment location: /usr/local/miniconda/envs/TDDFAV3\n",
            "\n",
            "  added / updated specs:\n",
            "    - python=3.8\n",
            "\n",
            "\n",
            "The following packages will be downloaded:\n",
            "\n",
            "    package                    |            build\n",
            "    ---------------------------|-----------------\n",
            "    ca-certificates-2025.2.25  |       h06a4308_0         129 KB\n",
            "    openssl-3.0.16             |       h5eee18b_0         5.2 MB\n",
            "    pip-24.2                   |   py38h06a4308_0         2.2 MB\n",
            "    python-3.8.20              |       he870216_0        23.8 MB\n",
            "    setuptools-75.1.0          |   py38h06a4308_0         1.7 MB\n",
            "    wheel-0.44.0               |   py38h06a4308_0         108 KB\n",
            "    xz-5.6.4                   |       h5eee18b_1         567 KB\n",
            "    ------------------------------------------------------------\n",
            "                                           Total:        33.7 MB\n",
            "\n",
            "The following NEW packages will be INSTALLED:\n",
            "\n",
            "  _libgcc_mutex      pkgs/main/linux-64::_libgcc_mutex-0.1-main \n",
            "  _openmp_mutex      pkgs/main/linux-64::_openmp_mutex-5.1-1_gnu \n",
            "  ca-certificates    pkgs/main/linux-64::ca-certificates-2025.2.25-h06a4308_0 \n",
            "  ld_impl_linux-64   pkgs/main/linux-64::ld_impl_linux-64-2.40-h12ee557_0 \n",
            "  libffi             pkgs/main/linux-64::libffi-3.4.4-h6a678d5_1 \n",
            "  libgcc-ng          pkgs/main/linux-64::libgcc-ng-11.2.0-h1234567_1 \n",
            "  libgomp            pkgs/main/linux-64::libgomp-11.2.0-h1234567_1 \n",
            "  libstdcxx-ng       pkgs/main/linux-64::libstdcxx-ng-11.2.0-h1234567_1 \n",
            "  ncurses            pkgs/main/linux-64::ncurses-6.4-h6a678d5_0 \n",
            "  openssl            pkgs/main/linux-64::openssl-3.0.16-h5eee18b_0 \n",
            "  pip                pkgs/main/linux-64::pip-24.2-py38h06a4308_0 \n",
            "  python             pkgs/main/linux-64::python-3.8.20-he870216_0 \n",
            "  readline           pkgs/main/linux-64::readline-8.2-h5eee18b_0 \n",
            "  setuptools         pkgs/main/linux-64::setuptools-75.1.0-py38h06a4308_0 \n",
            "  sqlite             pkgs/main/linux-64::sqlite-3.45.3-h5eee18b_0 \n",
            "  tk                 pkgs/main/linux-64::tk-8.6.14-h39e8969_0 \n",
            "  wheel              pkgs/main/linux-64::wheel-0.44.0-py38h06a4308_0 \n",
            "  xz                 pkgs/main/linux-64::xz-5.6.4-h5eee18b_1 \n",
            "  zlib               pkgs/main/linux-64::zlib-1.2.13-h5eee18b_1 \n",
            "\n",
            "\n",
            "\n",
            "Downloading and Extracting Packages:\n",
            "python-3.8.20        | 23.8 MB   | :   0% 0/1 [00:00<?, ?it/s]\n",
            "openssl-3.0.16       | 5.2 MB    | :   0% 0/1 [00:00<?, ?it/s]\u001b[A\n",
            "\n",
            "pip-24.2             | 2.2 MB    | :   0% 0/1 [00:00<?, ?it/s]\u001b[A\u001b[A\n",
            "\n",
            "\n",
            "setuptools-75.1.0    | 1.7 MB    | :   0% 0/1 [00:00<?, ?it/s]\u001b[A\u001b[A\u001b[A\n",
            "\n",
            "\n",
            "\n",
            "xz-5.6.4             | 567 KB    | :   0% 0/1 [00:00<?, ?it/s]\u001b[A\u001b[A\u001b[A\u001b[A\n",
            "\n",
            "\n",
            "\n",
            "\n",
            "ca-certificates-2025 | 129 KB    | :   0% 0/1 [00:00<?, ?it/s]\u001b[A\u001b[A\u001b[A\u001b[A\u001b[A\n",
            "\n",
            "\n",
            "\n",
            "\n",
            "\n",
            "python-3.8.20        | 23.8 MB   | :   1% 0.0052576065559632535/1 [00:00<00:19, 19.32s/it]\n",
            "openssl-3.0.16       | 5.2 MB    | :   2% 0.023860751601296512/1 [00:00<00:04,  4.27s/it]\u001b[A\n",
            "\n",
            "pip-24.2             | 2.2 MB    | :   6% 0.05658552758820767/1 [00:00<00:01,  1.88s/it]\u001b[A\u001b[A\n",
            "\n",
            "\n",
            "setuptools-75.1.0    | 1.7 MB    | :   4% 0.03699701815414596/1 [00:00<00:02,  2.87s/it]\u001b[A\u001b[A\u001b[A\n",
            "\n",
            "\n",
            "\n",
            "xz-5.6.4             | 567 KB    | :  54% 0.5364296041260634/1 [00:00<00:00,  5.12it/s]\u001b[A\u001b[A\u001b[A\u001b[A\n",
            "\n",
            "\n",
            "\n",
            "xz-5.6.4             | 567 KB    | : 100% 1.0/1 [00:00<00:00,  5.12it/s]               \u001b[A\u001b[A\u001b[A\u001b[A\n",
            "\n",
            "\n",
            "\n",
            "\n",
            "ca-certificates-2025 | 129 KB    | :  12% 0.12381823265796574/1 [00:00<00:01,  1.39s/it]\u001b[A\u001b[A\u001b[A\u001b[A\u001b[A\n",
            "\n",
            "\n",
            "\n",
            "\n",
            "python-3.8.20        | 23.8 MB   | :  12% 0.11501014341169616/1 [00:00<00:01,  1.51s/it]  \n",
            "openssl-3.0.16       | 5.2 MB    | :  58% 0.5786232263314404/1 [00:00<00:00,  3.26it/s]  \u001b[A\n",
            "\n",
            "\n",
            "\n",
            "\n",
            "\n",
            "wheel-0.44.0         | 108 KB    | :  15% 0.14783134378186213/1 [00:00<00:01,  1.44s/it]\u001b[A\u001b[A\u001b[A\u001b[A\u001b[A\u001b[A\n",
            "\n",
            "\n",
            "\n",
            "\n",
            "\n",
            "wheel-0.44.0         | 108 KB    | : 100% 1.0/1 [00:00<00:00,  1.44s/it]                \u001b[A\u001b[A\u001b[A\u001b[A\u001b[A\u001b[A\n",
            "\n",
            "\n",
            "setuptools-75.1.0    | 1.7 MB    | : 100% 1.0/1 [00:00<00:00,  4.86it/s]                \u001b[A\u001b[A\u001b[A\n",
            "\n",
            "\n",
            "setuptools-75.1.0    | 1.7 MB    | : 100% 1.0/1 [00:00<00:00,  4.86it/s]\u001b[A\u001b[A\u001b[A\n",
            "\n",
            "pip-24.2             | 2.2 MB    | : 100% 1.0/1 [00:00<00:00,  4.68it/s]                \u001b[A\u001b[A\n",
            "\n",
            "pip-24.2             | 2.2 MB    | : 100% 1.0/1 [00:00<00:00,  4.68it/s]\u001b[A\u001b[A\n",
            "\n",
            "\n",
            "\n",
            "\n",
            "python-3.8.20        | 23.8 MB   | :  26% 0.2582799220616948/1 [00:00<00:00,  1.01it/s] \n",
            "openssl-3.0.16       | 5.2 MB    | : 100% 1.0/1 [00:00<00:00,  2.69it/s]               \u001b[A\n",
            "python-3.8.20        | 23.8 MB   | :  51% 0.5093306351089402/1 [00:00<00:00,  1.60it/s]\n",
            "\n",
            "\n",
            "\n",
            "\n",
            "\n",
            "wheel-0.44.0         | 108 KB    | : 100% 1.0/1 [00:00<00:00,  2.74it/s]\u001b[A\u001b[A\u001b[A\u001b[A\u001b[A\u001b[A\n",
            "\n",
            "\n",
            "\n",
            "\n",
            "\n",
            "python-3.8.20        | 23.8 MB   | :  68% 0.682174450636232/1 [00:00<00:00,  1.64it/s] \n",
            "\n",
            "\n",
            "\n",
            "python-3.8.20        | 23.8 MB   | : 100% 1.0/1 [00:01<00:00,  1.74it/s]              \n",
            "\n",
            "pip-24.2             | 2.2 MB    | : 100% 1.0/1 [00:01<00:00,  4.68it/s]\u001b[A\u001b[A\n",
            "\n",
            "\n",
            "setuptools-75.1.0    | 1.7 MB    | : 100% 1.0/1 [00:01<00:00,  4.86it/s]\u001b[A\u001b[A\u001b[A\n",
            "                                                                        \n",
            "                                                                        \u001b[A\n",
            "\n",
            "                                                                        \u001b[A\u001b[A\n",
            "\n",
            "\n",
            "                                                                        \u001b[A\u001b[A\u001b[A\n",
            "\n",
            "\n",
            "\n",
            "                                                                        \u001b[A\u001b[A\u001b[A\u001b[A\n",
            "\n",
            "\n",
            "\n",
            "\n",
            "                                                                        \u001b[A\u001b[A\u001b[A\u001b[A\u001b[A\n",
            "\n",
            "\n",
            "\n",
            "\n",
            "\n",
            "                                                                        \u001b[A\u001b[A\u001b[A\u001b[A\u001b[A\u001b[A\n",
            "Preparing transaction: - \b\b\\ \b\b| \b\b/ \b\bdone\n",
            "Verifying transaction: \\ \b\b| \b\b/ \b\b- \b\b\\ \b\b| \b\b/ \b\b- \b\b\\ \b\b| \b\b/ \b\b- \b\b\\ \b\b| \b\b/ \b\b- \b\b\\ \b\bdone\n",
            "Executing transaction: / \b\b- \b\b\\ \b\b| \b\b/ \b\b- \b\bdone\n",
            "#\n",
            "# To activate this environment, use\n",
            "#\n",
            "#     $ conda activate TDDFAV3\n",
            "#\n",
            "# To deactivate an active environment, use\n",
            "#\n",
            "#     $ conda deactivate\n",
            "\n"
          ]
        }
      ],
      "source": [
        "!conda create -n TDDFAV3 python=3.8 -y\n"
      ]
    },
    {
      "cell_type": "code",
      "execution_count": null,
      "metadata": {
        "id": "gENsedRpHh0K"
      },
      "outputs": [],
      "source": [
        "!source /usr/local/miniconda/bin/activate TDDFAV3\n"
      ]
    },
    {
      "cell_type": "code",
      "execution_count": null,
      "metadata": {
        "colab": {
          "base_uri": "https://localhost:8080/"
        },
        "id": "K8YLFiE5IPHs",
        "outputId": "dff64760-32d3-4337-a1ff-14be0444725a"
      },
      "outputs": [
        {
          "name": "stdout",
          "output_type": "stream",
          "text": [
            "/usr/local/miniconda/bin/python\n"
          ]
        }
      ],
      "source": [
        "!which python\n"
      ]
    },
    {
      "cell_type": "code",
      "execution_count": null,
      "metadata": {
        "colab": {
          "base_uri": "https://localhost:8080/"
        },
        "id": "Ngtn8HdgIQs0",
        "outputId": "f8905f8f-80a3-45ca-afc0-f89771639cad"
      },
      "outputs": [
        {
          "name": "stdout",
          "output_type": "stream",
          "text": [
            "/usr/local/miniconda/envs/TDDFAV3/bin/python\n"
          ]
        }
      ],
      "source": [
        "!source /usr/local/miniconda/bin/activate TDDFAV3 && which python\n"
      ]
    },
    {
      "cell_type": "code",
      "execution_count": null,
      "metadata": {
        "colab": {
          "background_save": true,
          "base_uri": "https://localhost:8080/"
        },
        "id": "F-9vxVNUIaI3",
        "outputId": "86d9eb0e-9316-482a-e73b-181f3830def9"
      },
      "outputs": [
        {
          "name": "stdout",
          "output_type": "stream",
          "text": [
            "Looking in indexes: https://download.pytorch.org/whl/cu118\n",
            "Collecting torch\n",
            "  Downloading https://download.pytorch.org/whl/cu118/torch-2.6.0%2Bcu118-cp312-cp312-linux_x86_64.whl.metadata (27 kB)\n",
            "Collecting torchvision\n",
            "  Downloading https://download.pytorch.org/whl/cu118/torchvision-0.21.0%2Bcu118-cp312-cp312-linux_x86_64.whl.metadata (6.1 kB)\n",
            "Collecting torchaudio\n",
            "  Downloading https://download.pytorch.org/whl/cu118/torchaudio-2.6.0%2Bcu118-cp312-cp312-linux_x86_64.whl.metadata (6.6 kB)\n",
            "Collecting filelock (from torch)\n",
            "  Downloading https://download.pytorch.org/whl/filelock-3.13.1-py3-none-any.whl.metadata (2.8 kB)\n",
            "Requirement already satisfied: typing-extensions>=4.10.0 in /usr/local/miniconda/lib/python3.12/site-packages (from torch) (4.12.2)\n",
            "Collecting networkx (from torch)\n",
            "  Downloading https://download.pytorch.org/whl/networkx-3.3-py3-none-any.whl.metadata (5.1 kB)\n",
            "Collecting jinja2 (from torch)\n",
            "  Downloading https://download.pytorch.org/whl/Jinja2-3.1.4-py3-none-any.whl.metadata (2.6 kB)\n",
            "Collecting fsspec (from torch)\n",
            "  Downloading https://download.pytorch.org/whl/fsspec-2024.6.1-py3-none-any.whl.metadata (11 kB)\n",
            "Collecting nvidia-cuda-nvrtc-cu11==11.8.89 (from torch)\n",
            "  Downloading https://download.pytorch.org/whl/cu118/nvidia_cuda_nvrtc_cu11-11.8.89-py3-none-manylinux1_x86_64.whl (23.2 MB)\n",
            "\u001b[2K     \u001b[90m━━━━━━━━━━━━━━━━━━━━━━━━━━━━━━━━━━━━━━━━\u001b[0m \u001b[32m23.2/23.2 MB\u001b[0m \u001b[31m120.4 MB/s\u001b[0m eta \u001b[36m0:00:00\u001b[0m\n",
            "\u001b[?25hCollecting nvidia-cuda-runtime-cu11==11.8.89 (from torch)\n",
            "  Downloading https://download.pytorch.org/whl/cu118/nvidia_cuda_runtime_cu11-11.8.89-py3-none-manylinux1_x86_64.whl (875 kB)\n",
            "\u001b[2K     \u001b[90m━━━━━━━━━━━━━━━━━━━━━━━━━━━━━━━━━━━━━━━━\u001b[0m \u001b[32m875.6/875.6 kB\u001b[0m \u001b[31m32.2 MB/s\u001b[0m eta \u001b[36m0:00:00\u001b[0m\n",
            "\u001b[?25hCollecting nvidia-cuda-cupti-cu11==11.8.87 (from torch)\n",
            "  Downloading https://download.pytorch.org/whl/cu118/nvidia_cuda_cupti_cu11-11.8.87-py3-none-manylinux1_x86_64.whl (13.1 MB)\n",
            "\u001b[2K     \u001b[90m━━━━━━━━━━━━━━━━━━━━━━━━━━━━━━━━━━━━━━━━\u001b[0m \u001b[32m13.1/13.1 MB\u001b[0m \u001b[31m130.9 MB/s\u001b[0m eta \u001b[36m0:00:00\u001b[0m\n",
            "\u001b[?25hCollecting nvidia-cudnn-cu11==9.1.0.70 (from torch)\n",
            "  Downloading https://download.pytorch.org/whl/cu118/nvidia_cudnn_cu11-9.1.0.70-py3-none-manylinux2014_x86_64.whl (663.9 MB)\n",
            "\u001b[2K     \u001b[90m━━━━━━━━━━━━━━━━━━━━━━━━━━━━━━━━━━━━━━━━\u001b[0m \u001b[32m663.9/663.9 MB\u001b[0m \u001b[31m46.5 MB/s\u001b[0m eta \u001b[36m0:00:00\u001b[0m\n",
            "\u001b[?25hCollecting nvidia-cublas-cu11==11.11.3.6 (from torch)\n",
            "  Downloading https://download.pytorch.org/whl/cu118/nvidia_cublas_cu11-11.11.3.6-py3-none-manylinux1_x86_64.whl (417.9 MB)\n",
            "\u001b[2K     \u001b[90m━━━━━━━━━━━━━━━━━━━━━━━━━━━━━━━━━━━━━━━━\u001b[0m \u001b[32m417.9/417.9 MB\u001b[0m \u001b[31m56.6 MB/s\u001b[0m eta \u001b[36m0:00:00\u001b[0m\n",
            "\u001b[?25hCollecting nvidia-cufft-cu11==10.9.0.58 (from torch)\n",
            "  Downloading https://download.pytorch.org/whl/cu118/nvidia_cufft_cu11-10.9.0.58-py3-none-manylinux1_x86_64.whl (168.4 MB)\n",
            "\u001b[2K     \u001b[90m━━━━━━━━━━━━━━━━━━━━━━━━━━━━━━━━━━━━━━━━\u001b[0m \u001b[32m168.4/168.4 MB\u001b[0m \u001b[31m61.7 MB/s\u001b[0m eta \u001b[36m0:00:00\u001b[0m\n",
            "\u001b[?25hCollecting nvidia-curand-cu11==10.3.0.86 (from torch)\n",
            "  Downloading https://download.pytorch.org/whl/cu118/nvidia_curand_cu11-10.3.0.86-py3-none-manylinux1_x86_64.whl (58.1 MB)\n",
            "\u001b[2K     \u001b[90m━━━━━━━━━━━━━━━━━━━━━━━━━━━━━━━━━━━━━━━━\u001b[0m \u001b[32m58.1/58.1 MB\u001b[0m \u001b[31m56.6 MB/s\u001b[0m eta \u001b[36m0:00:00\u001b[0m\n",
            "\u001b[?25hCollecting nvidia-cusolver-cu11==11.4.1.48 (from torch)\n",
            "  Downloading https://download.pytorch.org/whl/cu118/nvidia_cusolver_cu11-11.4.1.48-py3-none-manylinux1_x86_64.whl (128.2 MB)\n",
            "\u001b[2K     \u001b[90m━━━━━━━━━━━━━━━━━━━━━━━━━━━━━━━━━━━━━━━━\u001b[0m \u001b[32m128.2/128.2 MB\u001b[0m \u001b[31m56.9 MB/s\u001b[0m eta \u001b[36m0:00:00\u001b[0m\n",
            "\u001b[?25hCollecting nvidia-cusparse-cu11==11.7.5.86 (from torch)\n",
            "  Downloading https://download.pytorch.org/whl/cu118/nvidia_cusparse_cu11-11.7.5.86-py3-none-manylinux1_x86_64.whl (204.1 MB)\n",
            "\u001b[2K     \u001b[90m━━━━━━━━━━━━━━━━━━━━━━━━━━━━━━━━━━━━━━━━\u001b[0m \u001b[32m204.1/204.1 MB\u001b[0m \u001b[31m32.5 MB/s\u001b[0m eta \u001b[36m0:00:00\u001b[0m\n",
            "\u001b[?25hCollecting nvidia-nccl-cu11==2.21.5 (from torch)\n",
            "  Downloading https://download.pytorch.org/whl/cu118/nvidia_nccl_cu11-2.21.5-py3-none-manylinux2014_x86_64.whl (147.8 MB)\n",
            "\u001b[2K     \u001b[90m━━━━━━━━━━━━━━━━━━━━━━━━━━━━━━━━━━━━━━━━\u001b[0m \u001b[32m147.8/147.8 MB\u001b[0m \u001b[31m23.4 MB/s\u001b[0m eta \u001b[36m0:00:00\u001b[0m\n",
            "\u001b[?25hCollecting nvidia-nvtx-cu11==11.8.86 (from torch)\n",
            "  Downloading https://download.pytorch.org/whl/cu118/nvidia_nvtx_cu11-11.8.86-py3-none-manylinux1_x86_64.whl (99 kB)\n",
            "Collecting triton==3.2.0 (from torch)\n",
            "  Downloading https://download.pytorch.org/whl/triton-3.2.0-cp312-cp312-manylinux_2_27_x86_64.manylinux_2_28_x86_64.whl.metadata (1.4 kB)\n",
            "Requirement already satisfied: setuptools in /usr/local/miniconda/lib/python3.12/site-packages (from torch) (75.8.0)\n",
            "Collecting sympy==1.13.1 (from torch)\n",
            "  Downloading https://download.pytorch.org/whl/sympy-1.13.1-py3-none-any.whl (6.2 MB)\n",
            "\u001b[2K     \u001b[90m━━━━━━━━━━━━━━━━━━━━━━━━━━━━━━━━━━━━━━━━\u001b[0m \u001b[32m6.2/6.2 MB\u001b[0m \u001b[31m35.1 MB/s\u001b[0m eta \u001b[36m0:00:00\u001b[0m\n",
            "\u001b[?25hCollecting mpmath<1.4,>=1.1.0 (from sympy==1.13.1->torch)\n",
            "  Downloading https://download.pytorch.org/whl/mpmath-1.3.0-py3-none-any.whl (536 kB)\n",
            "\u001b[2K     \u001b[90m━━━━━━━━━━━━━━━━━━━━━━━━━━━━━━━━━━━━━━━━\u001b[0m \u001b[32m536.2/536.2 kB\u001b[0m \u001b[31m15.7 MB/s\u001b[0m eta \u001b[36m0:00:00\u001b[0m\n",
            "\u001b[?25hCollecting numpy (from torchvision)\n",
            "  Downloading https://download.pytorch.org/whl/numpy-2.1.2-cp312-cp312-manylinux_2_17_x86_64.manylinux2014_x86_64.whl.metadata (60 kB)\n",
            "Collecting pillow!=8.3.*,>=5.3.0 (from torchvision)\n",
            "  Downloading https://download.pytorch.org/whl/pillow-11.0.0-cp312-cp312-manylinux_2_28_x86_64.whl.metadata (9.1 kB)\n",
            "Collecting MarkupSafe>=2.0 (from jinja2->torch)\n",
            "  Downloading https://download.pytorch.org/whl/MarkupSafe-2.1.5-cp312-cp312-manylinux_2_17_x86_64.manylinux2014_x86_64.whl (28 kB)\n",
            "Downloading https://download.pytorch.org/whl/cu118/torch-2.6.0%2Bcu118-cp312-cp312-linux_x86_64.whl (848.7 MB)\n",
            "\u001b[2K   \u001b[90m━━━━━━━━━━━━━━━━━━━━━━━━━━━━━━━━━━━━━━━━\u001b[0m \u001b[32m848.7/848.7 MB\u001b[0m \u001b[31m16.4 MB/s\u001b[0m eta \u001b[36m0:00:00\u001b[0m\n",
            "\u001b[?25hDownloading https://download.pytorch.org/whl/triton-3.2.0-cp312-cp312-manylinux_2_27_x86_64.manylinux_2_28_x86_64.whl (166.7 MB)\n",
            "\u001b[2K   \u001b[90m━━━━━━━━━━━━━━━━━━━━━━━━━━━━━━━━━━━━━━━━\u001b[0m \u001b[32m166.7/166.7 MB\u001b[0m \u001b[31m60.4 MB/s\u001b[0m eta \u001b[36m0:00:00\u001b[0m\n",
            "\u001b[?25hDownloading https://download.pytorch.org/whl/cu118/torchvision-0.21.0%2Bcu118-cp312-cp312-linux_x86_64.whl (6.5 MB)\n",
            "\u001b[2K   \u001b[90m━━━━━━━━━━━━━━━━━━━━━━━━━━━━━━━━━━━━━━━━\u001b[0m \u001b[32m6.5/6.5 MB\u001b[0m \u001b[31m94.0 MB/s\u001b[0m eta \u001b[36m0:00:00\u001b[0m\n",
            "\u001b[?25hDownloading https://download.pytorch.org/whl/cu118/torchaudio-2.6.0%2Bcu118-cp312-cp312-linux_x86_64.whl (3.3 MB)\n",
            "\u001b[2K   \u001b[90m━━━━━━━━━━━━━━━━━━━━━━━━━━━━━━━━━━━━━━━━\u001b[0m \u001b[32m3.3/3.3 MB\u001b[0m \u001b[31m25.0 MB/s\u001b[0m eta \u001b[36m0:00:00\u001b[0m\n",
            "\u001b[?25hDownloading https://download.pytorch.org/whl/pillow-11.0.0-cp312-cp312-manylinux_2_28_x86_64.whl (4.4 MB)\n",
            "\u001b[2K   \u001b[90m━━━━━━━━━━━━━━━━━━━━━━━━━━━━━━━━━━━━━━━━\u001b[0m \u001b[32m4.4/4.4 MB\u001b[0m \u001b[31m88.4 MB/s\u001b[0m eta \u001b[36m0:00:00\u001b[0m\n",
            "\u001b[?25hDownloading https://download.pytorch.org/whl/filelock-3.13.1-py3-none-any.whl (11 kB)\n",
            "Downloading https://download.pytorch.org/whl/fsspec-2024.6.1-py3-none-any.whl (177 kB)\n",
            "Downloading https://download.pytorch.org/whl/Jinja2-3.1.4-py3-none-any.whl (133 kB)\n",
            "Downloading https://download.pytorch.org/whl/networkx-3.3-py3-none-any.whl (1.7 MB)\n",
            "\u001b[2K   \u001b[90m━━━━━━━━━━━━━━━━━━━━━━━━━━━━━━━━━━━━━━━━\u001b[0m \u001b[32m1.7/1.7 MB\u001b[0m \u001b[31m58.4 MB/s\u001b[0m eta \u001b[36m0:00:00\u001b[0m\n",
            "\u001b[?25hDownloading https://download.pytorch.org/whl/numpy-2.1.2-cp312-cp312-manylinux_2_17_x86_64.manylinux2014_x86_64.whl (16.0 MB)\n",
            "\u001b[2K   \u001b[90m━━━━━━━━━━━━━━━━━━━━━━━━━━━━━━━━━━━━━━━━\u001b[0m \u001b[32m16.0/16.0 MB\u001b[0m \u001b[31m138.6 MB/s\u001b[0m eta \u001b[36m0:00:00\u001b[0m\n",
            "\u001b[?25hInstalling collected packages: triton, mpmath, sympy, pillow, nvidia-nvtx-cu11, nvidia-nccl-cu11, nvidia-cusparse-cu11, nvidia-curand-cu11, nvidia-cufft-cu11, nvidia-cuda-runtime-cu11, nvidia-cuda-nvrtc-cu11, nvidia-cuda-cupti-cu11, nvidia-cublas-cu11, numpy, networkx, MarkupSafe, fsspec, filelock, nvidia-cusolver-cu11, nvidia-cudnn-cu11, jinja2, torch, torchvision, torchaudio\n",
            "Successfully installed MarkupSafe-2.1.5 filelock-3.13.1 fsspec-2024.6.1 jinja2-3.1.4 mpmath-1.3.0 networkx-3.3 numpy-2.1.2 nvidia-cublas-cu11-11.11.3.6 nvidia-cuda-cupti-cu11-11.8.87 nvidia-cuda-nvrtc-cu11-11.8.89 nvidia-cuda-runtime-cu11-11.8.89 nvidia-cudnn-cu11-9.1.0.70 nvidia-cufft-cu11-10.9.0.58 nvidia-curand-cu11-10.3.0.86 nvidia-cusolver-cu11-11.4.1.48 nvidia-cusparse-cu11-11.7.5.86 nvidia-nccl-cu11-2.21.5 nvidia-nvtx-cu11-11.8.86 pillow-11.0.0 sympy-1.13.1 torch-2.6.0+cu118 torchaudio-2.6.0+cu118 torchvision-0.21.0+cu118 triton-3.2.0\n"
          ]
        }
      ],
      "source": [
        "!pip install torch torchvision torchaudio --index-url https://download.pytorch.org/whl/cu118\n"
      ]
    },
    {
      "cell_type": "code",
      "execution_count": null,
      "metadata": {
        "colab": {
          "background_save": true
        },
        "id": "QHTcvxfNIm14",
        "outputId": "29056842-3917-45d5-81ae-b624bef0c88d"
      },
      "outputs": [
        {
          "name": "stdout",
          "output_type": "stream",
          "text": [
            "/content/3DDFA-V3\n",
            "Collecting Pillow==10.3.0 (from -r requirements.txt (line 2))\n",
            "  Downloading pillow-10.3.0-cp312-cp312-manylinux_2_28_x86_64.whl.metadata (9.2 kB)\n",
            "Collecting opencv-python==4.9.0.80 (from -r requirements.txt (line 3))\n",
            "  Downloading opencv_python-4.9.0.80-cp37-abi3-manylinux_2_17_x86_64.manylinux2014_x86_64.whl.metadata (20 kB)\n",
            "Collecting torch-summary (from -r requirements.txt (line 5))\n",
            "  Downloading torch_summary-1.4.5-py3-none-any.whl.metadata (18 kB)\n",
            "Collecting scipy (from -r requirements.txt (line 6))\n",
            "  Downloading scipy-1.15.2-cp312-cp312-manylinux_2_17_x86_64.manylinux2014_x86_64.whl.metadata (61 kB)\n",
            "Collecting scikit-image (from -r requirements.txt (line 7))\n",
            "  Downloading scikit_image-0.25.2-cp312-cp312-manylinux_2_17_x86_64.manylinux2014_x86_64.whl.metadata (14 kB)\n",
            "Collecting albumentations (from -r requirements.txt (line 10))\n",
            "  Downloading albumentations-2.0.5-py3-none-any.whl.metadata (41 kB)\n",
            "Collecting tensorflow (from -r requirements.txt (line 13))\n",
            "  Downloading tensorflow-2.19.0-cp312-cp312-manylinux_2_17_x86_64.manylinux2014_x86_64.whl.metadata (4.1 kB)\n",
            "Collecting mtcnn (from -r requirements.txt (line 14))\n",
            "  Downloading mtcnn-1.0.0-py3-none-any.whl.metadata (5.8 kB)\n",
            "Collecting Ninja (from -r requirements.txt (line 16))\n",
            "  Downloading ninja-1.11.1.4-py3-none-manylinux_2_12_x86_64.manylinux2010_x86_64.whl.metadata (5.0 kB)\n",
            "Requirement already satisfied: numpy>=1.21.2 in /usr/local/miniconda/lib/python3.12/site-packages (from opencv-python==4.9.0.80->-r requirements.txt (line 3)) (2.1.2)\n",
            "Requirement already satisfied: networkx>=3.0 in /usr/local/miniconda/lib/python3.12/site-packages (from scikit-image->-r requirements.txt (line 7)) (3.3)\n",
            "Collecting imageio!=2.35.0,>=2.33 (from scikit-image->-r requirements.txt (line 7))\n",
            "  Downloading imageio-2.37.0-py3-none-any.whl.metadata (5.2 kB)\n",
            "Collecting tifffile>=2022.8.12 (from scikit-image->-r requirements.txt (line 7))\n",
            "  Downloading tifffile-2025.3.30-py3-none-any.whl.metadata (32 kB)\n",
            "Requirement already satisfied: packaging>=21 in /usr/local/miniconda/lib/python3.12/site-packages (from scikit-image->-r requirements.txt (line 7)) (24.2)\n",
            "Collecting lazy-loader>=0.4 (from scikit-image->-r requirements.txt (line 7))\n",
            "  Downloading lazy_loader-0.4-py3-none-any.whl.metadata (7.6 kB)\n",
            "Collecting PyYAML (from albumentations->-r requirements.txt (line 10))\n",
            "  Downloading PyYAML-6.0.2-cp312-cp312-manylinux_2_17_x86_64.manylinux2014_x86_64.whl.metadata (2.1 kB)\n",
            "Requirement already satisfied: pydantic>=2.9.2 in /usr/local/miniconda/lib/python3.12/site-packages (from albumentations->-r requirements.txt (line 10)) (2.10.3)\n",
            "Collecting albucore==0.0.23 (from albumentations->-r requirements.txt (line 10))\n",
            "  Downloading albucore-0.0.23-py3-none-any.whl.metadata (5.3 kB)\n",
            "Collecting opencv-python-headless>=4.9.0.80 (from albumentations->-r requirements.txt (line 10))\n",
            "  Downloading opencv_python_headless-4.11.0.86-cp37-abi3-manylinux_2_17_x86_64.manylinux2014_x86_64.whl.metadata (20 kB)\n",
            "Collecting stringzilla>=3.10.4 (from albucore==0.0.23->albumentations->-r requirements.txt (line 10))\n",
            "  Downloading stringzilla-3.12.3-cp312-cp312-manylinux_2_5_x86_64.manylinux1_x86_64.manylinux_2_28_x86_64.whl.metadata (80 kB)\n",
            "Collecting simsimd>=5.9.2 (from albucore==0.0.23->albumentations->-r requirements.txt (line 10))\n",
            "  Downloading simsimd-6.2.1-cp312-cp312-manylinux_2_28_x86_64.whl.metadata (66 kB)\n",
            "Collecting absl-py>=1.0.0 (from tensorflow->-r requirements.txt (line 13))\n",
            "  Downloading absl_py-2.2.2-py3-none-any.whl.metadata (2.6 kB)\n",
            "Collecting astunparse>=1.6.0 (from tensorflow->-r requirements.txt (line 13))\n",
            "  Downloading astunparse-1.6.3-py2.py3-none-any.whl.metadata (4.4 kB)\n",
            "Collecting flatbuffers>=24.3.25 (from tensorflow->-r requirements.txt (line 13))\n",
            "  Downloading flatbuffers-25.2.10-py2.py3-none-any.whl.metadata (875 bytes)\n",
            "Collecting gast!=0.5.0,!=0.5.1,!=0.5.2,>=0.2.1 (from tensorflow->-r requirements.txt (line 13))\n",
            "  Downloading gast-0.6.0-py3-none-any.whl.metadata (1.3 kB)\n",
            "Collecting google-pasta>=0.1.1 (from tensorflow->-r requirements.txt (line 13))\n",
            "  Downloading google_pasta-0.2.0-py3-none-any.whl.metadata (814 bytes)\n",
            "Collecting libclang>=13.0.0 (from tensorflow->-r requirements.txt (line 13))\n",
            "  Downloading libclang-18.1.1-py2.py3-none-manylinux2010_x86_64.whl.metadata (5.2 kB)\n",
            "Collecting opt-einsum>=2.3.2 (from tensorflow->-r requirements.txt (line 13))\n",
            "  Downloading opt_einsum-3.4.0-py3-none-any.whl.metadata (6.3 kB)\n",
            "Collecting protobuf!=4.21.0,!=4.21.1,!=4.21.2,!=4.21.3,!=4.21.4,!=4.21.5,<6.0.0dev,>=3.20.3 (from tensorflow->-r requirements.txt (line 13))\n",
            "  Downloading protobuf-5.29.4-cp38-abi3-manylinux2014_x86_64.whl.metadata (592 bytes)\n",
            "Requirement already satisfied: requests<3,>=2.21.0 in /usr/local/miniconda/lib/python3.12/site-packages (from tensorflow->-r requirements.txt (line 13)) (2.32.3)\n",
            "Requirement already satisfied: setuptools in /usr/local/miniconda/lib/python3.12/site-packages (from tensorflow->-r requirements.txt (line 13)) (75.8.0)\n",
            "Collecting six>=1.12.0 (from tensorflow->-r requirements.txt (line 13))\n",
            "  Downloading six-1.17.0-py2.py3-none-any.whl.metadata (1.7 kB)\n",
            "Collecting termcolor>=1.1.0 (from tensorflow->-r requirements.txt (line 13))\n",
            "  Downloading termcolor-3.0.1-py3-none-any.whl.metadata (6.1 kB)\n",
            "Requirement already satisfied: typing-extensions>=3.6.6 in /usr/local/miniconda/lib/python3.12/site-packages (from tensorflow->-r requirements.txt (line 13)) (4.12.2)\n",
            "Collecting wrapt>=1.11.0 (from tensorflow->-r requirements.txt (line 13))\n",
            "  Downloading wrapt-1.17.2-cp312-cp312-manylinux_2_5_x86_64.manylinux1_x86_64.manylinux_2_17_x86_64.manylinux2014_x86_64.whl.metadata (6.4 kB)\n",
            "Collecting grpcio<2.0,>=1.24.3 (from tensorflow->-r requirements.txt (line 13))\n",
            "  Downloading grpcio-1.71.0-cp312-cp312-manylinux_2_17_x86_64.manylinux2014_x86_64.whl.metadata (3.8 kB)\n",
            "Collecting tensorboard~=2.19.0 (from tensorflow->-r requirements.txt (line 13))\n",
            "  Downloading tensorboard-2.19.0-py3-none-any.whl.metadata (1.8 kB)\n",
            "Collecting keras>=3.5.0 (from tensorflow->-r requirements.txt (line 13))\n",
            "  Downloading keras-3.9.2-py3-none-any.whl.metadata (6.1 kB)\n",
            "Collecting h5py>=3.11.0 (from tensorflow->-r requirements.txt (line 13))\n",
            "  Downloading h5py-3.13.0-cp312-cp312-manylinux_2_17_x86_64.manylinux2014_x86_64.whl.metadata (2.5 kB)\n",
            "Collecting ml-dtypes<1.0.0,>=0.5.1 (from tensorflow->-r requirements.txt (line 13))\n",
            "  Downloading ml_dtypes-0.5.1-cp312-cp312-manylinux_2_17_x86_64.manylinux2014_x86_64.whl.metadata (21 kB)\n",
            "Collecting joblib>=1.4.2 (from mtcnn->-r requirements.txt (line 14))\n",
            "  Downloading joblib-1.4.2-py3-none-any.whl.metadata (5.4 kB)\n",
            "Collecting lz4>=4.3.3 (from mtcnn->-r requirements.txt (line 14))\n",
            "  Downloading lz4-4.4.4-cp312-cp312-manylinux_2_17_x86_64.manylinux2014_x86_64.whl.metadata (3.8 kB)\n",
            "Requirement already satisfied: wheel<1.0,>=0.23.0 in /usr/local/miniconda/lib/python3.12/site-packages (from astunparse>=1.6.0->tensorflow->-r requirements.txt (line 13)) (0.45.1)\n",
            "Requirement already satisfied: rich in /usr/local/miniconda/lib/python3.12/site-packages (from keras>=3.5.0->tensorflow->-r requirements.txt (line 13)) (13.9.4)\n",
            "Collecting namex (from keras>=3.5.0->tensorflow->-r requirements.txt (line 13))\n",
            "  Downloading namex-0.0.8-py3-none-any.whl.metadata (246 bytes)\n",
            "Collecting optree (from keras>=3.5.0->tensorflow->-r requirements.txt (line 13))\n",
            "  Downloading optree-0.15.0-cp312-cp312-manylinux_2_17_x86_64.manylinux2014_x86_64.whl.metadata (48 kB)\n",
            "Requirement already satisfied: annotated-types>=0.6.0 in /usr/local/miniconda/lib/python3.12/site-packages (from pydantic>=2.9.2->albumentations->-r requirements.txt (line 10)) (0.6.0)\n",
            "Requirement already satisfied: pydantic-core==2.27.1 in /usr/local/miniconda/lib/python3.12/site-packages (from pydantic>=2.9.2->albumentations->-r requirements.txt (line 10)) (2.27.1)\n",
            "Requirement already satisfied: charset-normalizer<4,>=2 in /usr/local/miniconda/lib/python3.12/site-packages (from requests<3,>=2.21.0->tensorflow->-r requirements.txt (line 13)) (3.3.2)\n",
            "Requirement already satisfied: idna<4,>=2.5 in /usr/local/miniconda/lib/python3.12/site-packages (from requests<3,>=2.21.0->tensorflow->-r requirements.txt (line 13)) (3.7)\n",
            "Requirement already satisfied: urllib3<3,>=1.21.1 in /usr/local/miniconda/lib/python3.12/site-packages (from requests<3,>=2.21.0->tensorflow->-r requirements.txt (line 13)) (2.3.0)\n",
            "Requirement already satisfied: certifi>=2017.4.17 in /usr/local/miniconda/lib/python3.12/site-packages (from requests<3,>=2.21.0->tensorflow->-r requirements.txt (line 13)) (2025.1.31)\n",
            "Collecting markdown>=2.6.8 (from tensorboard~=2.19.0->tensorflow->-r requirements.txt (line 13))\n",
            "  Downloading Markdown-3.7-py3-none-any.whl.metadata (7.0 kB)\n",
            "Collecting tensorboard-data-server<0.8.0,>=0.7.0 (from tensorboard~=2.19.0->tensorflow->-r requirements.txt (line 13))\n",
            "  Downloading tensorboard_data_server-0.7.2-py3-none-manylinux_2_31_x86_64.whl.metadata (1.1 kB)\n",
            "Collecting werkzeug>=1.0.1 (from tensorboard~=2.19.0->tensorflow->-r requirements.txt (line 13))\n",
            "  Downloading werkzeug-3.1.3-py3-none-any.whl.metadata (3.7 kB)\n",
            "Requirement already satisfied: MarkupSafe>=2.1.1 in /usr/local/miniconda/lib/python3.12/site-packages (from werkzeug>=1.0.1->tensorboard~=2.19.0->tensorflow->-r requirements.txt (line 13)) (2.1.5)\n",
            "Requirement already satisfied: markdown-it-py>=2.2.0 in /usr/local/miniconda/lib/python3.12/site-packages (from rich->keras>=3.5.0->tensorflow->-r requirements.txt (line 13)) (2.2.0)\n",
            "Requirement already satisfied: pygments<3.0.0,>=2.13.0 in /usr/local/miniconda/lib/python3.12/site-packages (from rich->keras>=3.5.0->tensorflow->-r requirements.txt (line 13)) (2.15.1)\n",
            "Requirement already satisfied: mdurl~=0.1 in /usr/local/miniconda/lib/python3.12/site-packages (from markdown-it-py>=2.2.0->rich->keras>=3.5.0->tensorflow->-r requirements.txt (line 13)) (0.1.0)\n",
            "Downloading pillow-10.3.0-cp312-cp312-manylinux_2_28_x86_64.whl (4.5 MB)\n",
            "\u001b[2K   \u001b[90m━━━━━━━━━━━━━━━━━━━━━━━━━━━━━━━━━━━━━━━━\u001b[0m \u001b[32m4.5/4.5 MB\u001b[0m \u001b[31m61.9 MB/s\u001b[0m eta \u001b[36m0:00:00\u001b[0m\n",
            "\u001b[?25hDownloading opencv_python-4.9.0.80-cp37-abi3-manylinux_2_17_x86_64.manylinux2014_x86_64.whl (62.2 MB)\n",
            "\u001b[2K   \u001b[90m━━━━━━━━━━━━━━━━━━━━━━━━━━━━━━━━━━━━━━━━\u001b[0m \u001b[32m62.2/62.2 MB\u001b[0m \u001b[31m68.1 MB/s\u001b[0m eta \u001b[36m0:00:00\u001b[0m\n",
            "\u001b[?25hDownloading torch_summary-1.4.5-py3-none-any.whl (16 kB)\n",
            "Downloading scipy-1.15.2-cp312-cp312-manylinux_2_17_x86_64.manylinux2014_x86_64.whl (37.3 MB)\n",
            "\u001b[2K   \u001b[90m━━━━━━━━━━━━━━━━━━━━━━━━━━━━━━━━━━━━━━━━\u001b[0m \u001b[32m37.3/37.3 MB\u001b[0m \u001b[31m61.1 MB/s\u001b[0m eta \u001b[36m0:00:00\u001b[0m\n",
            "\u001b[?25hDownloading scikit_image-0.25.2-cp312-cp312-manylinux_2_17_x86_64.manylinux2014_x86_64.whl (15.0 MB)\n",
            "\u001b[2K   \u001b[90m━━━━━━━━━━━━━━━━━━━━━━━━━━━━━━━━━━━━━━━━\u001b[0m \u001b[32m15.0/15.0 MB\u001b[0m \u001b[31m117.7 MB/s\u001b[0m eta \u001b[36m0:00:00\u001b[0m\n",
            "\u001b[?25hDownloading albumentations-2.0.5-py3-none-any.whl (290 kB)\n",
            "Downloading albucore-0.0.23-py3-none-any.whl (14 kB)\n",
            "Downloading tensorflow-2.19.0-cp312-cp312-manylinux_2_17_x86_64.manylinux2014_x86_64.whl (645.0 MB)\n",
            "\u001b[2K   \u001b[90m━━━━━━━━━━━━━━━━━━━━━━━━━━━━━━━━━━━━━━━━\u001b[0m \u001b[32m645.0/645.0 MB\u001b[0m \u001b[31m34.9 MB/s\u001b[0m eta \u001b[36m0:00:00\u001b[0m\n",
            "\u001b[?25hDownloading mtcnn-1.0.0-py3-none-any.whl (1.9 MB)\n",
            "\u001b[2K   \u001b[90m━━━━━━━━━━━━━━━━━━━━━━━━━━━━━━━━━━━━━━━━\u001b[0m \u001b[32m1.9/1.9 MB\u001b[0m \u001b[31m65.5 MB/s\u001b[0m eta \u001b[36m0:00:00\u001b[0m\n",
            "\u001b[?25hDownloading ninja-1.11.1.4-py3-none-manylinux_2_12_x86_64.manylinux2010_x86_64.whl (422 kB)\n",
            "Downloading absl_py-2.2.2-py3-none-any.whl (135 kB)\n",
            "Downloading astunparse-1.6.3-py2.py3-none-any.whl (12 kB)\n",
            "Downloading flatbuffers-25.2.10-py2.py3-none-any.whl (30 kB)\n",
            "Downloading gast-0.6.0-py3-none-any.whl (21 kB)\n",
            "Downloading google_pasta-0.2.0-py3-none-any.whl (57 kB)\n",
            "Downloading grpcio-1.71.0-cp312-cp312-manylinux_2_17_x86_64.manylinux2014_x86_64.whl (5.9 MB)\n",
            "\u001b[2K   \u001b[90m━━━━━━━━━━━━━━━━━━━━━━━━━━━━━━━━━━━━━━━━\u001b[0m \u001b[32m5.9/5.9 MB\u001b[0m \u001b[31m112.0 MB/s\u001b[0m eta \u001b[36m0:00:00\u001b[0m\n",
            "\u001b[?25hDownloading h5py-3.13.0-cp312-cp312-manylinux_2_17_x86_64.manylinux2014_x86_64.whl (4.9 MB)\n",
            "\u001b[2K   \u001b[90m━━━━━━━━━━━━━━━━━━━━━━━━━━━━━━━━━━━━━━━━\u001b[0m \u001b[32m4.9/4.9 MB\u001b[0m \u001b[31m107.6 MB/s\u001b[0m eta \u001b[36m0:00:00\u001b[0m\n",
            "\u001b[?25hDownloading imageio-2.37.0-py3-none-any.whl (315 kB)\n",
            "Downloading joblib-1.4.2-py3-none-any.whl (301 kB)\n",
            "Downloading keras-3.9.2-py3-none-any.whl (1.3 MB)\n",
            "\u001b[2K   \u001b[90m━━━━━━━━━━━━━━━━━━━━━━━━━━━━━━━━━━━━━━━━\u001b[0m \u001b[32m1.3/1.3 MB\u001b[0m \u001b[31m52.7 MB/s\u001b[0m eta \u001b[36m0:00:00\u001b[0m\n",
            "\u001b[?25hDownloading lazy_loader-0.4-py3-none-any.whl (12 kB)\n",
            "Downloading libclang-18.1.1-py2.py3-none-manylinux2010_x86_64.whl (24.5 MB)\n",
            "\u001b[2K   \u001b[90m━━━━━━━━━━━━━━━━━━━━━━━━━━━━━━━━━━━━━━━━\u001b[0m \u001b[32m24.5/24.5 MB\u001b[0m \u001b[31m138.8 MB/s\u001b[0m eta \u001b[36m0:00:00\u001b[0m\n",
            "\u001b[?25hDownloading lz4-4.4.4-cp312-cp312-manylinux_2_17_x86_64.manylinux2014_x86_64.whl (1.3 MB)\n",
            "\u001b[2K   \u001b[90m━━━━━━━━━━━━━━━━━━━━━━━━━━━━━━━━━━━━━━━━\u001b[0m \u001b[32m1.3/1.3 MB\u001b[0m \u001b[31m47.5 MB/s\u001b[0m eta \u001b[36m0:00:00\u001b[0m\n",
            "\u001b[?25hDownloading ml_dtypes-0.5.1-cp312-cp312-manylinux_2_17_x86_64.manylinux2014_x86_64.whl (4.7 MB)\n",
            "\u001b[2K   \u001b[90m━━━━━━━━━━━━━━━━━━━━━━━━━━━━━━━━━━━━━━━━\u001b[0m \u001b[32m4.7/4.7 MB\u001b[0m \u001b[31m105.3 MB/s\u001b[0m eta \u001b[36m0:00:00\u001b[0m\n",
            "\u001b[?25hDownloading opencv_python_headless-4.11.0.86-cp37-abi3-manylinux_2_17_x86_64.manylinux2014_x86_64.whl (50.0 MB)\n",
            "\u001b[2K   \u001b[90m━━━━━━━━━━━━━━━━━━━━━━━━━━━━━━━━━━━━━━━━\u001b[0m \u001b[32m50.0/50.0 MB\u001b[0m \u001b[31m61.4 MB/s\u001b[0m eta \u001b[36m0:00:00\u001b[0m\n",
            "\u001b[?25hDownloading opt_einsum-3.4.0-py3-none-any.whl (71 kB)\n",
            "Downloading protobuf-5.29.4-cp38-abi3-manylinux2014_x86_64.whl (319 kB)\n",
            "Downloading six-1.17.0-py2.py3-none-any.whl (11 kB)\n",
            "Downloading tensorboard-2.19.0-py3-none-any.whl (5.5 MB)\n",
            "\u001b[2K   \u001b[90m━━━━━━━━━━━━━━━━━━━━━━━━━━━━━━━━━━━━━━━━\u001b[0m \u001b[32m5.5/5.5 MB\u001b[0m \u001b[31m114.1 MB/s\u001b[0m eta \u001b[36m0:00:00\u001b[0m\n",
            "\u001b[?25hDownloading termcolor-3.0.1-py3-none-any.whl (7.2 kB)\n",
            "Downloading tifffile-2025.3.30-py3-none-any.whl (226 kB)\n",
            "Downloading wrapt-1.17.2-cp312-cp312-manylinux_2_5_x86_64.manylinux1_x86_64.manylinux_2_17_x86_64.manylinux2014_x86_64.whl (89 kB)\n",
            "Downloading PyYAML-6.0.2-cp312-cp312-manylinux_2_17_x86_64.manylinux2014_x86_64.whl (767 kB)\n",
            "\u001b[2K   \u001b[90m━━━━━━━━━━━━━━━━━━━━━━━━━━━━━━━━━━━━━━━━\u001b[0m \u001b[32m767.5/767.5 kB\u001b[0m \u001b[31m29.3 MB/s\u001b[0m eta \u001b[36m0:00:00\u001b[0m\n",
            "\u001b[?25hDownloading Markdown-3.7-py3-none-any.whl (106 kB)\n",
            "Downloading simsimd-6.2.1-cp312-cp312-manylinux_2_28_x86_64.whl (633 kB)\n",
            "\u001b[2K   \u001b[90m━━━━━━━━━━━━━━━━━━━━━━━━━━━━━━━━━━━━━━━━\u001b[0m \u001b[32m633.1/633.1 kB\u001b[0m \u001b[31m21.3 MB/s\u001b[0m eta \u001b[36m0:00:00\u001b[0m\n",
            "\u001b[?25hDownloading stringzilla-3.12.3-cp312-cp312-manylinux_2_5_x86_64.manylinux1_x86_64.manylinux_2_28_x86_64.whl (308 kB)\n",
            "Downloading tensorboard_data_server-0.7.2-py3-none-manylinux_2_31_x86_64.whl (6.6 MB)\n",
            "\u001b[2K   \u001b[90m━━━━━━━━━━━━━━━━━━━━━━━━━━━━━━━━━━━━━━━━\u001b[0m \u001b[32m6.6/6.6 MB\u001b[0m \u001b[31m86.4 MB/s\u001b[0m eta \u001b[36m0:00:00\u001b[0m\n",
            "\u001b[?25hDownloading werkzeug-3.1.3-py3-none-any.whl (224 kB)\n",
            "Downloading namex-0.0.8-py3-none-any.whl (5.8 kB)\n",
            "Downloading optree-0.15.0-cp312-cp312-manylinux_2_17_x86_64.manylinux2014_x86_64.whl (404 kB)\n",
            "Installing collected packages: stringzilla, simsimd, namex, libclang, flatbuffers, wrapt, werkzeug, torch-summary, tifffile, termcolor, tensorboard-data-server, six, scipy, PyYAML, protobuf, Pillow, optree, opt-einsum, opencv-python-headless, opencv-python, Ninja, ml-dtypes, markdown, lz4, lazy-loader, joblib, h5py, grpcio, gast, absl-py, tensorboard, mtcnn, imageio, google-pasta, astunparse, albucore, scikit-image, keras, albumentations, tensorflow\n",
            "  Attempting uninstall: Pillow\n",
            "    Found existing installation: pillow 11.0.0\n",
            "    Uninstalling pillow-11.0.0:\n",
            "      Successfully uninstalled pillow-11.0.0\n",
            "Successfully installed Ninja-1.11.1.4 Pillow-10.3.0 PyYAML-6.0.2 absl-py-2.2.2 albucore-0.0.23 albumentations-2.0.5 astunparse-1.6.3 flatbuffers-25.2.10 gast-0.6.0 google-pasta-0.2.0 grpcio-1.71.0 h5py-3.13.0 imageio-2.37.0 joblib-1.4.2 keras-3.9.2 lazy-loader-0.4 libclang-18.1.1 lz4-4.4.4 markdown-3.7 ml-dtypes-0.5.1 mtcnn-1.0.0 namex-0.0.8 opencv-python-4.9.0.80 opencv-python-headless-4.11.0.86 opt-einsum-3.4.0 optree-0.15.0 protobuf-5.29.4 scikit-image-0.25.2 scipy-1.15.2 simsimd-6.2.1 six-1.17.0 stringzilla-3.12.3 tensorboard-2.19.0 tensorboard-data-server-0.7.2 tensorflow-2.19.0 termcolor-3.0.1 tifffile-2025.3.30 torch-summary-1.4.5 werkzeug-3.1.3 wrapt-1.17.2\n"
          ]
        },
        {
          "data": {
            "application/vnd.colab-display-data+json": {
              "id": "03ec7df493e043e4bc507c02e6b47564",
              "pip_warning": {
                "packages": [
                  "six"
                ]
              }
            }
          },
          "metadata": {},
          "output_type": "display_data"
        }
      ],
      "source": [
        "%cd /content/3DDFA-V3/\n",
        "!pip install -r requirements.txt\n"
      ]
    },
    {
      "cell_type": "code",
      "execution_count": null,
      "metadata": {
        "colab": {
          "base_uri": "https://localhost:8080/"
        },
        "id": "XezO1LttUjFL",
        "outputId": "30da3f4b-7184-4888-95c0-5e20f3bbe846"
      },
      "outputs": [
        {
          "name": "stdout",
          "output_type": "stream",
          "text": [
            "Collecting pyngrok\n",
            "  Downloading pyngrok-7.2.3-py3-none-any.whl.metadata (8.7 kB)\n",
            "Requirement already satisfied: PyYAML>=5.1 in /usr/local/miniconda/lib/python3.12/site-packages (from pyngrok) (6.0.2)\n",
            "Downloading pyngrok-7.2.3-py3-none-any.whl (23 kB)\n",
            "Installing collected packages: pyngrok\n",
            "Successfully installed pyngrok-7.2.3\n"
          ]
        }
      ],
      "source": [
        "!pip install pyngrok"
      ]
    },
    {
      "cell_type": "code",
      "execution_count": null,
      "metadata": {
        "colab": {
          "base_uri": "https://localhost:8080/"
        },
        "id": "ipe-4k6IKMFF",
        "outputId": "b4137de0-f23b-4646-c644-790f58ed6516"
      },
      "outputs": [
        {
          "name": "stdout",
          "output_type": "stream",
          "text": [
            "Cloning into 'nvdiffrast'...\n",
            "remote: Enumerating objects: 404, done.\u001b[K\n",
            "remote: Counting objects: 100% (128/128), done.\u001b[K\n",
            "remote: Compressing objects: 100% (51/51), done.\u001b[K\n",
            "remote: Total 404 (delta 90), reused 77 (delta 77), pack-reused 276 (from 1)\u001b[K\n",
            "Receiving objects: 100% (404/404), 11.11 MiB | 24.25 MiB/s, done.\n",
            "Resolving deltas: 100% (215/215), done.\n",
            "\u001b[31mERROR: Directory '.' is not installable. Neither 'setup.py' nor 'pyproject.toml' found.\u001b[0m\u001b[31m\n",
            "\u001b[0m"
          ]
        }
      ],
      "source": [
        "!git clone https://github.com/NVlabs/nvdiffrast.git\n",
        "!cd nvdiffrast\n",
        "!pip install .\n",
        "!cd .."
      ]
    },
    {
      "cell_type": "code",
      "execution_count": null,
      "metadata": {
        "colab": {
          "base_uri": "https://localhost:8080/"
        },
        "id": "ap6k2EYSLFdB",
        "outputId": "311c3f69-c469-4cfe-fa3b-d07a7cea985a"
      },
      "outputs": [
        {
          "name": "stdout",
          "output_type": "stream",
          "text": [
            "docker\tdocs  LICENSE.txt  nvdiffrast  README.md  run_sample.sh  samples  setup.py\n"
          ]
        }
      ],
      "source": [
        "!ls nvdiffrast\n"
      ]
    },
    {
      "cell_type": "code",
      "execution_count": null,
      "metadata": {
        "colab": {
          "base_uri": "https://localhost:8080/"
        },
        "id": "ioYX9XwoLnaB",
        "outputId": "e6b91c07-b142-4ee3-bcb9-74baaa09a7cb"
      },
      "outputs": [
        {
          "name": "stdout",
          "output_type": "stream",
          "text": [
            "/content/3DDFA-V3/nvdiffrast\n",
            "Processing /content/3DDFA-V3/nvdiffrast\n",
            "  Preparing metadata (setup.py) ... \u001b[?25l\u001b[?25hdone\n",
            "Requirement already satisfied: numpy in /usr/local/miniconda/lib/python3.12/site-packages (from nvdiffrast==0.3.3) (2.1.2)\n",
            "Building wheels for collected packages: nvdiffrast\n",
            "  Building wheel for nvdiffrast (setup.py) ... \u001b[?25l\u001b[?25hdone\n",
            "  Created wheel for nvdiffrast: filename=nvdiffrast-0.3.3-py3-none-any.whl size=139963 sha256=112c03171ff41dcddc3c6c4a5508db10ee15ce51c92706d809caee40dd633084\n",
            "  Stored in directory: /tmp/pip-ephem-wheel-cache-e9cukxss/wheels/c2/9b/74/c4714123d2f106be1ecb11cb7fb309d1c2e0560af090a89616\n",
            "Successfully built nvdiffrast\n",
            "Installing collected packages: nvdiffrast\n",
            "Successfully installed nvdiffrast-0.3.3\n"
          ]
        }
      ],
      "source": [
        "%cd /content/3DDFA-V3/nvdiffrast\n",
        "!pip install .\n"
      ]
    },
    {
      "cell_type": "code",
      "execution_count": null,
      "metadata": {
        "colab": {
          "base_uri": "https://localhost:8080/"
        },
        "id": "FrR_sqotL3cK",
        "outputId": "a1b5544c-3175-417b-bc18-da3775d500c8"
      },
      "outputs": [
        {
          "name": "stdout",
          "output_type": "stream",
          "text": [
            "[Errno 2] No such file or directory: 'nvdiffrast/util/cython_renderer/'\n",
            "/content/3DDFA-V3/nvdiffrast\n",
            "running build_ext\n",
            "/\n"
          ]
        }
      ],
      "source": [
        "%cd nvdiffrast/util/cython_renderer/\n",
        "!python setup.py build_ext -i\n",
        "%cd ../../..\n"
      ]
    },
    {
      "cell_type": "code",
      "execution_count": null,
      "metadata": {
        "colab": {
          "base_uri": "https://localhost:8080/"
        },
        "id": "a_qA0RnAMEhN",
        "outputId": "71179a74-53c1-45cf-cae6-06b890ee07ef"
      },
      "outputs": [
        {
          "name": "stdout",
          "output_type": "stream",
          "text": [
            "/content/3DDFA-V3/nvdiffrast:\n",
            "build\tdocs\t     nvdiffrast\t\t  README.md\t samples\n",
            "docker\tLICENSE.txt  nvdiffrast.egg-info  run_sample.sh  setup.py\n",
            "\n",
            "/content/3DDFA-V3/nvdiffrast/build:\n",
            "bdist.linux-x86_64  lib\n",
            "\n",
            "/content/3DDFA-V3/nvdiffrast/build/bdist.linux-x86_64:\n",
            "\n",
            "/content/3DDFA-V3/nvdiffrast/build/lib:\n",
            "nvdiffrast\n",
            "\n",
            "/content/3DDFA-V3/nvdiffrast/build/lib/nvdiffrast:\n",
            "common\t__init__.py  tensorflow  torch\n",
            "\n",
            "/content/3DDFA-V3/nvdiffrast/build/lib/nvdiffrast/common:\n",
            "antialias.cu  common.h\t   glutil.cpp\t     interpolate.cu  rasterize_gl.cpp  texture.cpp\n",
            "antialias.h   cudaraster   glutil_extlist.h  interpolate.h   rasterize_gl.h    texture.cu\n",
            "common.cpp    framework.h  glutil.h\t     rasterize.cu    rasterize.h       texture.h\n",
            "\n",
            "/content/3DDFA-V3/nvdiffrast/build/lib/nvdiffrast/common/cudaraster:\n",
            "CudaRaster.hpp\timpl\n",
            "\n",
            "/content/3DDFA-V3/nvdiffrast/build/lib/nvdiffrast/common/cudaraster/impl:\n",
            "BinRaster.inl  CoarseRaster.inl  Defs.hpp\t  RasterImpl.cpp  TriangleSetup.inl\n",
            "Buffer.cpp     Constants.hpp\t FineRaster.inl   RasterImpl.cu   Util.inl\n",
            "Buffer.hpp     CudaRaster.cpp\t PrivateDefs.hpp  RasterImpl.hpp\n",
            "\n",
            "/content/3DDFA-V3/nvdiffrast/build/lib/nvdiffrast/tensorflow:\n",
            "__init__.py  plugin_loader.py  tf_antialias.cu\t  tf_rasterize.cu\n",
            "ops.py\t     tf_all.cu\t       tf_interpolate.cu  tf_texture.cu\n",
            "\n",
            "/content/3DDFA-V3/nvdiffrast/build/lib/nvdiffrast/torch:\n",
            "__init__.py\t     torch_bindings.cpp     torch_interpolate.cpp   torch_texture.cpp\n",
            "ops.py\t\t     torch_bindings_gl.cpp  torch_rasterize.cpp     torch_types.h\n",
            "torch_antialias.cpp  torch_common.inl\t    torch_rasterize_gl.cpp\n",
            "\n",
            "/content/3DDFA-V3/nvdiffrast/docker:\n",
            "10_nvidia.json\tDockerfile\n",
            "\n",
            "/content/3DDFA-V3/nvdiffrast/docs:\n",
            "img  index.html\n",
            "\n",
            "/content/3DDFA-V3/nvdiffrast/docs/img:\n",
            "cube.png       pipe_earth.png\t  spot_crop2.png  spot_st.png\t    spot_uv.png  teaser5.png\n",
            "earth.png      pipe_envphong.png  spot_diff1.png  spot_tex.png\t    teaser1.png  teaser.png\n",
            "envphong.png   pose.png\t\t  spot_diff2.png  spot_texture.png  teaser2.png  thumb.jpg\n",
            "logo.png       spot_aa.png\t  spot_peel1.png  spot_texw.png     teaser3.png  tri.png\n",
            "pipe_cube.png  spot_crop1.png\t  spot_peel2.png  spot_tri.png\t    teaser4.png\n",
            "\n",
            "/content/3DDFA-V3/nvdiffrast/nvdiffrast:\n",
            "common\t__init__.py  lib  __pycache__  tensorflow  torch\n",
            "\n",
            "/content/3DDFA-V3/nvdiffrast/nvdiffrast/common:\n",
            "antialias.cu  common.h\t   glutil.cpp\t     interpolate.cu  rasterize_gl.cpp  texture.cpp\n",
            "antialias.h   cudaraster   glutil_extlist.h  interpolate.h   rasterize_gl.h    texture.cu\n",
            "common.cpp    framework.h  glutil.h\t     rasterize.cu    rasterize.h       texture.h\n",
            "\n",
            "/content/3DDFA-V3/nvdiffrast/nvdiffrast/common/cudaraster:\n",
            "CudaRaster.hpp\timpl\n",
            "\n",
            "/content/3DDFA-V3/nvdiffrast/nvdiffrast/common/cudaraster/impl:\n",
            "BinRaster.inl  CoarseRaster.inl  Defs.hpp\t  RasterImpl.cpp  TriangleSetup.inl\n",
            "Buffer.cpp     Constants.hpp\t FineRaster.inl   RasterImpl.cu   Util.inl\n",
            "Buffer.hpp     CudaRaster.cpp\t PrivateDefs.hpp  RasterImpl.hpp\n",
            "\n",
            "/content/3DDFA-V3/nvdiffrast/nvdiffrast/lib:\n",
            "setgpu.lib\n",
            "\n",
            "/content/3DDFA-V3/nvdiffrast/nvdiffrast/__pycache__:\n",
            "__init__.cpython-312.pyc\n",
            "\n",
            "/content/3DDFA-V3/nvdiffrast/nvdiffrast/tensorflow:\n",
            "__init__.py  plugin_loader.py  tf_antialias.cu\t  tf_rasterize.cu\n",
            "ops.py\t     tf_all.cu\t       tf_interpolate.cu  tf_texture.cu\n",
            "\n",
            "/content/3DDFA-V3/nvdiffrast/nvdiffrast/torch:\n",
            "__init__.py\t     torch_bindings.cpp     torch_interpolate.cpp   torch_texture.cpp\n",
            "ops.py\t\t     torch_bindings_gl.cpp  torch_rasterize.cpp     torch_types.h\n",
            "torch_antialias.cpp  torch_common.inl\t    torch_rasterize_gl.cpp\n",
            "\n",
            "/content/3DDFA-V3/nvdiffrast/nvdiffrast.egg-info:\n",
            "dependency_links.txt  PKG-INFO\trequires.txt  SOURCES.txt  top_level.txt\n",
            "\n",
            "/content/3DDFA-V3/nvdiffrast/samples:\n",
            "data  tensorflow  torch\n",
            "\n",
            "/content/3DDFA-V3/nvdiffrast/samples/data:\n",
            "cube_c.npz  cube_d.npz\tcube_p.npz  earth.npz  envphong.npz  NOTICE.txt\n",
            "\n",
            "/content/3DDFA-V3/nvdiffrast/samples/tensorflow:\n",
            "cube.py  earth.py  envphong.py\tpose.py  triangle.py  util.py\n",
            "\n",
            "/content/3DDFA-V3/nvdiffrast/samples/torch:\n",
            "cube.py  earth.py  envphong.py\tpose.py  triangle.py  util.py\n"
          ]
        }
      ],
      "source": [
        "!ls -R /content/3DDFA-V3/nvdiffrast\n"
      ]
    },
    {
      "cell_type": "code",
      "execution_count": null,
      "metadata": {
        "colab": {
          "base_uri": "https://localhost:8080/"
        },
        "id": "uJ8QukvXMpXg",
        "outputId": "166dfbaf-fcd4-4d2a-e9b4-75e6ab8204ae"
      },
      "outputs": [
        {
          "name": "stdout",
          "output_type": "stream",
          "text": [
            "Collecting cython\n",
            "  Downloading Cython-3.0.12-cp312-cp312-manylinux_2_17_x86_64.manylinux2014_x86_64.whl.metadata (3.3 kB)\n",
            "Downloading Cython-3.0.12-cp312-cp312-manylinux_2_17_x86_64.manylinux2014_x86_64.whl (3.5 MB)\n",
            "\u001b[2K   \u001b[90m━━━━━━━━━━━━━━━━━━━━━━━━━━━━━━━━━━━━━━━━\u001b[0m \u001b[32m3.5/3.5 MB\u001b[0m \u001b[31m9.0 MB/s\u001b[0m eta \u001b[36m0:00:00\u001b[0m\n",
            "\u001b[?25hInstalling collected packages: cython\n",
            "Successfully installed cython-3.0.12\n"
          ]
        }
      ],
      "source": [
        "!pip install cython\n"
      ]
    },
    {
      "cell_type": "code",
      "execution_count": null,
      "metadata": {
        "colab": {
          "base_uri": "https://localhost:8080/"
        },
        "id": "TC5zLWeqMKOP",
        "outputId": "41661f67-a356-4447-e335-3fbc971b5b52"
      },
      "outputs": [
        {
          "name": "stdout",
          "output_type": "stream",
          "text": [
            "/content/3DDFA-V3/util/cython_renderer\n",
            "Compiling mesh_core_cython.pyx because it changed.\n",
            "[1/1] Cythonizing mesh_core_cython.pyx\n",
            "/usr/local/miniconda/lib/python3.12/site-packages/Cython/Compiler/Main.py:381: FutureWarning: Cython directive 'language_level' not set, using '3str' for now (Py3). This has changed from earlier releases! File: /content/3DDFA-V3/util/cython_renderer/mesh_core_cython.pyx\n",
            "  tree = Parsing.p_module(s, pxd, full_module_name)\n",
            "In file included from \u001b[01m\u001b[K/usr/local/miniconda/lib/python3.12/site-packages/numpy/_core/include/numpy/ndarraytypes.h:1909\u001b[m\u001b[K,\n",
            "                 from \u001b[01m\u001b[K/usr/local/miniconda/lib/python3.12/site-packages/numpy/_core/include/numpy/ndarrayobject.h:12\u001b[m\u001b[K,\n",
            "                 from \u001b[01m\u001b[K/usr/local/miniconda/lib/python3.12/site-packages/numpy/_core/include/numpy/arrayobject.h:5\u001b[m\u001b[K,\n",
            "                 from \u001b[01m\u001b[Kmesh_core_cython.cpp:1264\u001b[m\u001b[K:\n",
            "\u001b[01m\u001b[K/usr/local/miniconda/lib/python3.12/site-packages/numpy/_core/include/numpy/npy_1_7_deprecated_api.h:17:2:\u001b[m\u001b[K \u001b[01;35m\u001b[Kwarning: \u001b[m\u001b[K#warning \"Using deprecated NumPy API, disable it with \" \"#define NPY_NO_DEPRECATED_API NPY_1_7_API_VERSION\" [\u001b[01;35m\u001b[K\u001b]8;;https://gcc.gnu.org/onlinedocs/gcc/Warning-Options.html#index-Wcpp\u0007-Wcpp\u001b]8;;\u0007\u001b[m\u001b[K]\n",
            "   17 | #\u001b[01;35m\u001b[Kwarning\u001b[m\u001b[K \"Using deprecated NumPy API, disable it with \" \\\n",
            "      |  \u001b[01;35m\u001b[K^~~~~~~\u001b[m\u001b[K\n",
            "/content/3DDFA-V3\n"
          ]
        }
      ],
      "source": [
        "# Navigate to the Cython renderer directory\n",
        "%cd /content/3DDFA-V3/util/cython_renderer/\n",
        "\n",
        "# Build the Cython extension\n",
        "!python setup.py build_ext -i\n",
        "\n",
        "# Go back to the main project directory\n",
        "%cd /content/3DDFA-V3\n"
      ]
    },
    {
      "cell_type": "code",
      "execution_count": null,
      "metadata": {
        "colab": {
          "base_uri": "https://localhost:8080/"
        },
        "id": "GqoMcsx-Mlar",
        "outputId": "7359b3b4-be7d-41c6-e4f6-49232b0cac09"
      },
      "outputs": [
        {
          "name": "stdout",
          "output_type": "stream",
          "text": [
            "--2025-03-24 15:56:57--  https://huggingface.co/datasets/Zidu-Wang/3DDFA-V3/resolve/main/assets/face_model.npy\n",
            "Resolving huggingface.co (huggingface.co)... 3.166.152.105, 3.166.152.44, 3.166.152.110, ...\n",
            "Connecting to huggingface.co (huggingface.co)|3.166.152.105|:443... connected.\n",
            "HTTP request sent, awaiting response... 302 Found\n",
            "Location: https://cdn-lfs-us-1.hf.co/repos/59/18/5918151087a473ecf8cc8d19baeccfec8ecb73323fe2046a4b0ac3e5ea9c099f/f07ada9b4748ecdfeae3fa67aae88bb4b824ea7adc26853778c55d8dc0efa832?response-content-disposition=inline%3B+filename*%3DUTF-8%27%27face_model.npy%3B+filename%3D%22face_model.npy%22%3B&Expires=1742835418&Policy=eyJTdGF0ZW1lbnQiOlt7IkNvbmRpdGlvbiI6eyJEYXRlTGVzc1RoYW4iOnsiQVdTOkVwb2NoVGltZSI6MTc0MjgzNTQxOH19LCJSZXNvdXJjZSI6Imh0dHBzOi8vY2RuLWxmcy11cy0xLmhmLmNvL3JlcG9zLzU5LzE4LzU5MTgxNTEwODdhNDczZWNmOGNjOGQxOWJhZWNjZmVjOGVjYjczMzIzZmUyMDQ2YTRiMGFjM2U1ZWE5YzA5OWYvZjA3YWRhOWI0NzQ4ZWNkZmVhZTNmYTY3YWFlODhiYjRiODI0ZWE3YWRjMjY4NTM3NzhjNTVkOGRjMGVmYTgzMj9yZXNwb25zZS1jb250ZW50LWRpc3Bvc2l0aW9uPSoifV19&Signature=Ex15zetobkXvPXNkPGPKvgpe5prLVwXEUKA7bI7vzTaLA0b3HkoNxj9Z40C%7EnleGnppdErMkoMOhEKXLctjLrsSpAvFTd%7ENTUK9bV7pABZ4plc3LktuXN-FMrV7Ve5BjWmQysXwgbhrZaJe4iI-hWjmK%7Ehs%7EyrcUCR4e7T%7EXw9SWrfQiuOYlUIHKWuzpecSPjKjnNUbXQAHja2keukNUXnFb%7ExO8kq2lLv8JBhOltGbL62vu8UaD5RyZnYpyTE4YEhKrHBzaCnATOia9Y65IdR-Njo7NQeSSSSXq5jiOwqVSRb3oGhbdhPhZyQ2xFRouDZWMXAFCuxNmOIH53eNpJg__&Key-Pair-Id=K24J24Z295AEI9 [following]\n",
            "--2025-03-24 15:56:58--  https://cdn-lfs-us-1.hf.co/repos/59/18/5918151087a473ecf8cc8d19baeccfec8ecb73323fe2046a4b0ac3e5ea9c099f/f07ada9b4748ecdfeae3fa67aae88bb4b824ea7adc26853778c55d8dc0efa832?response-content-disposition=inline%3B+filename*%3DUTF-8%27%27face_model.npy%3B+filename%3D%22face_model.npy%22%3B&Expires=1742835418&Policy=eyJTdGF0ZW1lbnQiOlt7IkNvbmRpdGlvbiI6eyJEYXRlTGVzc1RoYW4iOnsiQVdTOkVwb2NoVGltZSI6MTc0MjgzNTQxOH19LCJSZXNvdXJjZSI6Imh0dHBzOi8vY2RuLWxmcy11cy0xLmhmLmNvL3JlcG9zLzU5LzE4LzU5MTgxNTEwODdhNDczZWNmOGNjOGQxOWJhZWNjZmVjOGVjYjczMzIzZmUyMDQ2YTRiMGFjM2U1ZWE5YzA5OWYvZjA3YWRhOWI0NzQ4ZWNkZmVhZTNmYTY3YWFlODhiYjRiODI0ZWE3YWRjMjY4NTM3NzhjNTVkOGRjMGVmYTgzMj9yZXNwb25zZS1jb250ZW50LWRpc3Bvc2l0aW9uPSoifV19&Signature=Ex15zetobkXvPXNkPGPKvgpe5prLVwXEUKA7bI7vzTaLA0b3HkoNxj9Z40C%7EnleGnppdErMkoMOhEKXLctjLrsSpAvFTd%7ENTUK9bV7pABZ4plc3LktuXN-FMrV7Ve5BjWmQysXwgbhrZaJe4iI-hWjmK%7Ehs%7EyrcUCR4e7T%7EXw9SWrfQiuOYlUIHKWuzpecSPjKjnNUbXQAHja2keukNUXnFb%7ExO8kq2lLv8JBhOltGbL62vu8UaD5RyZnYpyTE4YEhKrHBzaCnATOia9Y65IdR-Njo7NQeSSSSXq5jiOwqVSRb3oGhbdhPhZyQ2xFRouDZWMXAFCuxNmOIH53eNpJg__&Key-Pair-Id=K24J24Z295AEI9\n",
            "Resolving cdn-lfs-us-1.hf.co (cdn-lfs-us-1.hf.co)... 3.166.135.49, 3.166.135.42, 3.166.135.95, ...\n",
            "Connecting to cdn-lfs-us-1.hf.co (cdn-lfs-us-1.hf.co)|3.166.135.49|:443... connected.\n",
            "HTTP request sent, awaiting response... 200 OK\n",
            "Length: 103918535 (99M) [binary/octet-stream]\n",
            "Saving to: ‘assets/face_model.npy’\n",
            "\n",
            "face_model.npy      100%[===================>]  99.10M  69.5MB/s    in 1.4s    \n",
            "\n",
            "2025-03-24 15:56:59 (69.5 MB/s) - ‘assets/face_model.npy’ saved [103918535/103918535]\n",
            "\n",
            "--2025-03-24 15:56:59--  https://huggingface.co/datasets/Zidu-Wang/3DDFA-V3/resolve/main/assets/net_recon.pth\n",
            "Resolving huggingface.co (huggingface.co)... 3.166.152.105, 3.166.152.44, 3.166.152.110, ...\n",
            "Connecting to huggingface.co (huggingface.co)|3.166.152.105|:443... connected.\n",
            "HTTP request sent, awaiting response... 302 Found\n",
            "Location: https://cdn-lfs-us-1.hf.co/repos/59/18/5918151087a473ecf8cc8d19baeccfec8ecb73323fe2046a4b0ac3e5ea9c099f/f150fda06905fa1ee0b525913f175fd95404bf19f138974e8f1ed3e67c456ebd?response-content-disposition=inline%3B+filename*%3DUTF-8%27%27net_recon.pth%3B+filename%3D%22net_recon.pth%22%3B&Expires=1742835419&Policy=eyJTdGF0ZW1lbnQiOlt7IkNvbmRpdGlvbiI6eyJEYXRlTGVzc1RoYW4iOnsiQVdTOkVwb2NoVGltZSI6MTc0MjgzNTQxOX19LCJSZXNvdXJjZSI6Imh0dHBzOi8vY2RuLWxmcy11cy0xLmhmLmNvL3JlcG9zLzU5LzE4LzU5MTgxNTEwODdhNDczZWNmOGNjOGQxOWJhZWNjZmVjOGVjYjczMzIzZmUyMDQ2YTRiMGFjM2U1ZWE5YzA5OWYvZjE1MGZkYTA2OTA1ZmExZWUwYjUyNTkxM2YxNzVmZDk1NDA0YmYxOWYxMzg5NzRlOGYxZWQzZTY3YzQ1NmViZD9yZXNwb25zZS1jb250ZW50LWRpc3Bvc2l0aW9uPSoifV19&Signature=VaKOaGkdoKajzioFrWtBY18AtrqmEgV2lRxiba1VqtsoCL%7E646TP%7E3xZ6LWuTEqtKvBPwacOlqMLQJDZmxZ2O6zP%7EteRoyPouLDeTNx9f8hcq0wKVs5dhbjrxxpiXOitly8UZ62ApqU%7E2PRyyUUe4JIEXDA4z4BGvXGMStILV0B7bs6jlwP4GDZ4VIN49BB-JQ2t%7EZVixNdBFrhsBqDo-wHNkIG48TixeZtU%7Et%7E4md-BBScCUiBiuyaWukFG1R3O6Mb8sdS%7ELYeZWPEt2ybutZmPQVbcyqHI8SUXKcDY8U9lH0M25pm-O2vAUDFuYRHYkoyLYjbsAw2dkSt%7EiCXW0A__&Key-Pair-Id=K24J24Z295AEI9 [following]\n",
            "--2025-03-24 15:57:00--  https://cdn-lfs-us-1.hf.co/repos/59/18/5918151087a473ecf8cc8d19baeccfec8ecb73323fe2046a4b0ac3e5ea9c099f/f150fda06905fa1ee0b525913f175fd95404bf19f138974e8f1ed3e67c456ebd?response-content-disposition=inline%3B+filename*%3DUTF-8%27%27net_recon.pth%3B+filename%3D%22net_recon.pth%22%3B&Expires=1742835419&Policy=eyJTdGF0ZW1lbnQiOlt7IkNvbmRpdGlvbiI6eyJEYXRlTGVzc1RoYW4iOnsiQVdTOkVwb2NoVGltZSI6MTc0MjgzNTQxOX19LCJSZXNvdXJjZSI6Imh0dHBzOi8vY2RuLWxmcy11cy0xLmhmLmNvL3JlcG9zLzU5LzE4LzU5MTgxNTEwODdhNDczZWNmOGNjOGQxOWJhZWNjZmVjOGVjYjczMzIzZmUyMDQ2YTRiMGFjM2U1ZWE5YzA5OWYvZjE1MGZkYTA2OTA1ZmExZWUwYjUyNTkxM2YxNzVmZDk1NDA0YmYxOWYxMzg5NzRlOGYxZWQzZTY3YzQ1NmViZD9yZXNwb25zZS1jb250ZW50LWRpc3Bvc2l0aW9uPSoifV19&Signature=VaKOaGkdoKajzioFrWtBY18AtrqmEgV2lRxiba1VqtsoCL%7E646TP%7E3xZ6LWuTEqtKvBPwacOlqMLQJDZmxZ2O6zP%7EteRoyPouLDeTNx9f8hcq0wKVs5dhbjrxxpiXOitly8UZ62ApqU%7E2PRyyUUe4JIEXDA4z4BGvXGMStILV0B7bs6jlwP4GDZ4VIN49BB-JQ2t%7EZVixNdBFrhsBqDo-wHNkIG48TixeZtU%7Et%7E4md-BBScCUiBiuyaWukFG1R3O6Mb8sdS%7ELYeZWPEt2ybutZmPQVbcyqHI8SUXKcDY8U9lH0M25pm-O2vAUDFuYRHYkoyLYjbsAw2dkSt%7EiCXW0A__&Key-Pair-Id=K24J24Z295AEI9\n",
            "Resolving cdn-lfs-us-1.hf.co (cdn-lfs-us-1.hf.co)... 3.166.135.49, 3.166.135.42, 3.166.135.95, ...\n",
            "Connecting to cdn-lfs-us-1.hf.co (cdn-lfs-us-1.hf.co)|3.166.135.49|:443... connected.\n",
            "HTTP request sent, awaiting response... 200 OK\n",
            "Length: 96464581 (92M) [binary/octet-stream]\n",
            "Saving to: ‘assets/net_recon.pth’\n",
            "\n",
            "net_recon.pth       100%[===================>]  92.00M  58.3MB/s    in 1.6s    \n",
            "\n",
            "2025-03-24 15:57:01 (58.3 MB/s) - ‘assets/net_recon.pth’ saved [96464581/96464581]\n",
            "\n",
            "--2025-03-24 15:57:01--  https://huggingface.co/datasets/Zidu-Wang/3DDFA-V3/resolve/main/assets/large_base_net.pth\n",
            "Resolving huggingface.co (huggingface.co)... 3.166.152.105, 3.166.152.44, 3.166.152.110, ...\n",
            "Connecting to huggingface.co (huggingface.co)|3.166.152.105|:443... connected.\n",
            "HTTP request sent, awaiting response... 302 Found\n",
            "Location: https://cdn-lfs-us-1.hf.co/repos/59/18/5918151087a473ecf8cc8d19baeccfec8ecb73323fe2046a4b0ac3e5ea9c099f/0b4b5935112e79b170719417e1ce46e21f9f3be8b3c366effcdb539d7a2aa304?response-content-disposition=inline%3B+filename*%3DUTF-8%27%27large_base_net.pth%3B+filename%3D%22large_base_net.pth%22%3B&Expires=1742835422&Policy=eyJTdGF0ZW1lbnQiOlt7IkNvbmRpdGlvbiI6eyJEYXRlTGVzc1RoYW4iOnsiQVdTOkVwb2NoVGltZSI6MTc0MjgzNTQyMn19LCJSZXNvdXJjZSI6Imh0dHBzOi8vY2RuLWxmcy11cy0xLmhmLmNvL3JlcG9zLzU5LzE4LzU5MTgxNTEwODdhNDczZWNmOGNjOGQxOWJhZWNjZmVjOGVjYjczMzIzZmUyMDQ2YTRiMGFjM2U1ZWE5YzA5OWYvMGI0YjU5MzUxMTJlNzliMTcwNzE5NDE3ZTFjZTQ2ZTIxZjlmM2JlOGIzYzM2NmVmZmNkYjUzOWQ3YTJhYTMwND9yZXNwb25zZS1jb250ZW50LWRpc3Bvc2l0aW9uPSoifV19&Signature=IVa3ahquz6oejqKHcPO4PerdANJMhTNmIy4reEGx8oY0kRGSJTGuVBA7F32aUlAQIfJQecLmtYWlNQSjJ9GJir%7EDzg18VzSG0IGm4ofo4YllD61pW0u8pzQFbQAl5mo7r87LALnqLU8nznLM4PoHeRXXJLKkRiNmmUjhH5i-6QH0VoulmCwd4yRMScE8t0h2gCG1X-ml0ihYPbh5pT7RLEWcI-UcRdFREnRXWqPUxXHvNn8pzT-wt2%7EEiWQ8aVAQrPd--LX4eofg0kHDCmsbxOSBNqO7bDlZOsGqVp6kxFHsWYix%7EJD-BHovcloP3IosjEty-vGfYBWsZGAY4aGLHQ__&Key-Pair-Id=K24J24Z295AEI9 [following]\n",
            "--2025-03-24 15:57:02--  https://cdn-lfs-us-1.hf.co/repos/59/18/5918151087a473ecf8cc8d19baeccfec8ecb73323fe2046a4b0ac3e5ea9c099f/0b4b5935112e79b170719417e1ce46e21f9f3be8b3c366effcdb539d7a2aa304?response-content-disposition=inline%3B+filename*%3DUTF-8%27%27large_base_net.pth%3B+filename%3D%22large_base_net.pth%22%3B&Expires=1742835422&Policy=eyJTdGF0ZW1lbnQiOlt7IkNvbmRpdGlvbiI6eyJEYXRlTGVzc1RoYW4iOnsiQVdTOkVwb2NoVGltZSI6MTc0MjgzNTQyMn19LCJSZXNvdXJjZSI6Imh0dHBzOi8vY2RuLWxmcy11cy0xLmhmLmNvL3JlcG9zLzU5LzE4LzU5MTgxNTEwODdhNDczZWNmOGNjOGQxOWJhZWNjZmVjOGVjYjczMzIzZmUyMDQ2YTRiMGFjM2U1ZWE5YzA5OWYvMGI0YjU5MzUxMTJlNzliMTcwNzE5NDE3ZTFjZTQ2ZTIxZjlmM2JlOGIzYzM2NmVmZmNkYjUzOWQ3YTJhYTMwND9yZXNwb25zZS1jb250ZW50LWRpc3Bvc2l0aW9uPSoifV19&Signature=IVa3ahquz6oejqKHcPO4PerdANJMhTNmIy4reEGx8oY0kRGSJTGuVBA7F32aUlAQIfJQecLmtYWlNQSjJ9GJir%7EDzg18VzSG0IGm4ofo4YllD61pW0u8pzQFbQAl5mo7r87LALnqLU8nznLM4PoHeRXXJLKkRiNmmUjhH5i-6QH0VoulmCwd4yRMScE8t0h2gCG1X-ml0ihYPbh5pT7RLEWcI-UcRdFREnRXWqPUxXHvNn8pzT-wt2%7EEiWQ8aVAQrPd--LX4eofg0kHDCmsbxOSBNqO7bDlZOsGqVp6kxFHsWYix%7EJD-BHovcloP3IosjEty-vGfYBWsZGAY4aGLHQ__&Key-Pair-Id=K24J24Z295AEI9\n",
            "Resolving cdn-lfs-us-1.hf.co (cdn-lfs-us-1.hf.co)... 3.166.135.49, 3.166.135.42, 3.166.135.95, ...\n",
            "Connecting to cdn-lfs-us-1.hf.co (cdn-lfs-us-1.hf.co)|3.166.135.49|:443... connected.\n",
            "HTTP request sent, awaiting response... 200 OK\n",
            "Length: 27795941 (27M) [binary/octet-stream]\n",
            "Saving to: ‘assets/large_base_net.pth’\n",
            "\n",
            "large_base_net.pth  100%[===================>]  26.51M  86.3MB/s    in 0.3s    \n",
            "\n",
            "2025-03-24 15:57:02 (86.3 MB/s) - ‘assets/large_base_net.pth’ saved [27795941/27795941]\n",
            "\n",
            "--2025-03-24 15:57:02--  https://huggingface.co/datasets/Zidu-Wang/3DDFA-V3/resolve/main/assets/retinaface_resnet50_2020-07-20_old_torch.pth\n",
            "Resolving huggingface.co (huggingface.co)... 3.166.152.105, 3.166.152.44, 3.166.152.110, ...\n",
            "Connecting to huggingface.co (huggingface.co)|3.166.152.105|:443... connected.\n",
            "HTTP request sent, awaiting response... 302 Found\n",
            "Location: https://cdn-lfs-us-1.hf.co/repos/59/18/5918151087a473ecf8cc8d19baeccfec8ecb73323fe2046a4b0ac3e5ea9c099f/097c3045a4ef8d9a83499e28818604abe3f64f1c1e3f51284497faf75d430f81?response-content-disposition=inline%3B+filename*%3DUTF-8%27%27retinaface_resnet50_2020-07-20_old_torch.pth%3B+filename%3D%22retinaface_resnet50_2020-07-20_old_torch.pth%22%3B&Expires=1742835422&Policy=eyJTdGF0ZW1lbnQiOlt7IkNvbmRpdGlvbiI6eyJEYXRlTGVzc1RoYW4iOnsiQVdTOkVwb2NoVGltZSI6MTc0MjgzNTQyMn19LCJSZXNvdXJjZSI6Imh0dHBzOi8vY2RuLWxmcy11cy0xLmhmLmNvL3JlcG9zLzU5LzE4LzU5MTgxNTEwODdhNDczZWNmOGNjOGQxOWJhZWNjZmVjOGVjYjczMzIzZmUyMDQ2YTRiMGFjM2U1ZWE5YzA5OWYvMDk3YzMwNDVhNGVmOGQ5YTgzNDk5ZTI4ODE4NjA0YWJlM2Y2NGYxYzFlM2Y1MTI4NDQ5N2ZhZjc1ZDQzMGY4MT9yZXNwb25zZS1jb250ZW50LWRpc3Bvc2l0aW9uPSoifV19&Signature=u6Pqzqan-JXgATulnO9rwgOPHX8J1aGDjkExTsBTHdT6i%7Eg%7Et7dDb197r%7EGJUZGi1f5wpTifCwBxNrj3GeM2v8JuDlwKP06ViKR-w0BMjKKV4RROLvfg5G1I6GdrIZa3L4Q3B-UsGPyvEmeNv16edvZUpJMisx9XIrJtkz72cr7YFVjwa%7EwukxciP81m7fgq6p%7EuCNNB1JKgH%7EbGNnp9vZUV038Yyjsd-OhZWC-XjMBseOnjt3Yns-vyHOGdtyiXWiCLXrWKJvkYEwhblIBi0iA2T6ShuQMLnbuNveNS%7EZ1wBsrTteSM9nwQUF%7EJh7SAkyfOruRfG6V0qGWExdgGIw__&Key-Pair-Id=K24J24Z295AEI9 [following]\n",
            "--2025-03-24 15:57:02--  https://cdn-lfs-us-1.hf.co/repos/59/18/5918151087a473ecf8cc8d19baeccfec8ecb73323fe2046a4b0ac3e5ea9c099f/097c3045a4ef8d9a83499e28818604abe3f64f1c1e3f51284497faf75d430f81?response-content-disposition=inline%3B+filename*%3DUTF-8%27%27retinaface_resnet50_2020-07-20_old_torch.pth%3B+filename%3D%22retinaface_resnet50_2020-07-20_old_torch.pth%22%3B&Expires=1742835422&Policy=eyJTdGF0ZW1lbnQiOlt7IkNvbmRpdGlvbiI6eyJEYXRlTGVzc1RoYW4iOnsiQVdTOkVwb2NoVGltZSI6MTc0MjgzNTQyMn19LCJSZXNvdXJjZSI6Imh0dHBzOi8vY2RuLWxmcy11cy0xLmhmLmNvL3JlcG9zLzU5LzE4LzU5MTgxNTEwODdhNDczZWNmOGNjOGQxOWJhZWNjZmVjOGVjYjczMzIzZmUyMDQ2YTRiMGFjM2U1ZWE5YzA5OWYvMDk3YzMwNDVhNGVmOGQ5YTgzNDk5ZTI4ODE4NjA0YWJlM2Y2NGYxYzFlM2Y1MTI4NDQ5N2ZhZjc1ZDQzMGY4MT9yZXNwb25zZS1jb250ZW50LWRpc3Bvc2l0aW9uPSoifV19&Signature=u6Pqzqan-JXgATulnO9rwgOPHX8J1aGDjkExTsBTHdT6i%7Eg%7Et7dDb197r%7EGJUZGi1f5wpTifCwBxNrj3GeM2v8JuDlwKP06ViKR-w0BMjKKV4RROLvfg5G1I6GdrIZa3L4Q3B-UsGPyvEmeNv16edvZUpJMisx9XIrJtkz72cr7YFVjwa%7EwukxciP81m7fgq6p%7EuCNNB1JKgH%7EbGNnp9vZUV038Yyjsd-OhZWC-XjMBseOnjt3Yns-vyHOGdtyiXWiCLXrWKJvkYEwhblIBi0iA2T6ShuQMLnbuNveNS%7EZ1wBsrTteSM9nwQUF%7EJh7SAkyfOruRfG6V0qGWExdgGIw__&Key-Pair-Id=K24J24Z295AEI9\n",
            "Resolving cdn-lfs-us-1.hf.co (cdn-lfs-us-1.hf.co)... 3.166.135.49, 3.166.135.42, 3.166.135.95, ...\n",
            "Connecting to cdn-lfs-us-1.hf.co (cdn-lfs-us-1.hf.co)|3.166.135.49|:443... connected.\n",
            "HTTP request sent, awaiting response... 200 OK\n",
            "Length: 109477455 (104M) [binary/octet-stream]\n",
            "Saving to: ‘assets/retinaface_resnet50_2020-07-20_old_torch.pth’\n",
            "\n",
            "retinaface_resnet50 100%[===================>] 104.41M  76.8MB/s    in 1.4s    \n",
            "\n",
            "2025-03-24 15:57:04 (76.8 MB/s) - ‘assets/retinaface_resnet50_2020-07-20_old_torch.pth’ saved [109477455/109477455]\n",
            "\n",
            "--2025-03-24 15:57:04--  https://huggingface.co/datasets/Zidu-Wang/3DDFA-V3/resolve/main/assets/similarity_Lm3D_all.mat\n",
            "Resolving huggingface.co (huggingface.co)... 3.166.152.105, 3.166.152.44, 3.166.152.110, ...\n",
            "Connecting to huggingface.co (huggingface.co)|3.166.152.105|:443... connected.\n",
            "HTTP request sent, awaiting response... 200 OK\n",
            "Length: 994\n",
            "Saving to: ‘assets/similarity_Lm3D_all.mat’\n",
            "\n",
            "similarity_Lm3D_all 100%[===================>]     994  --.-KB/s    in 0s      \n",
            "\n",
            "2025-03-24 15:57:04 (191 MB/s) - ‘assets/similarity_Lm3D_all.mat’ saved [994/994]\n",
            "\n"
          ]
        }
      ],
      "source": [
        "!wget -P assets https://huggingface.co/datasets/Zidu-Wang/3DDFA-V3/resolve/main/assets/face_model.npy\n",
        "!wget -P assets https://huggingface.co/datasets/Zidu-Wang/3DDFA-V3/resolve/main/assets/net_recon.pth\n",
        "!wget -P assets https://huggingface.co/datasets/Zidu-Wang/3DDFA-V3/resolve/main/assets/large_base_net.pth\n",
        "!wget -P assets https://huggingface.co/datasets/Zidu-Wang/3DDFA-V3/resolve/main/assets/retinaface_resnet50_2020-07-20_old_torch.pth\n",
        "!wget -P assets https://huggingface.co/datasets/Zidu-Wang/3DDFA-V3/resolve/main/assets/similarity_Lm3D_all.mat\n"
      ]
    },
    {
      "cell_type": "code",
      "execution_count": null,
      "metadata": {
        "id": "nNQxaESQPc6v"
      },
      "outputs": [],
      "source": [
        "mkdir -p /content/3DDFA-V3/my_images\n"
      ]
    },
    {
      "cell_type": "code",
      "execution_count": null,
      "metadata": {
        "id": "pB6jYDuwQMXt"
      },
      "outputs": [],
      "source": [
        "mkdir -p /content/3DDFA-V3/my_images/results\n"
      ]
    },
    {
      "cell_type": "code",
      "execution_count": null,
      "metadata": {
        "colab": {
          "base_uri": "https://localhost:8080/"
        },
        "id": "pJfhpZfoQlHR",
        "outputId": "ae3e1afa-de5c-47a8-f3da-a1a8448eb4c0"
      },
      "outputs": [
        {
          "name": "stdout",
          "output_type": "stream",
          "text": [
            "numpy                    2.1.2\n",
            "Found existing installation: numpy 2.1.2\n",
            "Uninstalling numpy-2.1.2:\n",
            "  Successfully uninstalled numpy-2.1.2\n",
            "\u001b[33mWARNING: Skipping numpy as it is not installed.\u001b[0m\u001b[33m\n",
            "\u001b[0m"
          ]
        }
      ],
      "source": [
        "!pip list | grep numpy  # Check installed NumPy version\n",
        "!pip uninstall -y numpy\n",
        "!pip uninstall -y numpy  # Run it twice to ensure complete removal\n",
        "!rm -rf /usr/local/lib/python3.*/dist-packages/numpy*\n",
        "!rm -rf /usr/local/miniconda/lib/python3.*/site-packages/numpy*\n"
      ]
    },
    {
      "cell_type": "code",
      "execution_count": null,
      "metadata": {
        "colab": {
          "base_uri": "https://localhost:8080/"
        },
        "id": "YEmluiKxQrlV",
        "outputId": "d058ec29-4f6c-4376-adc0-afb2af10444b"
      },
      "outputs": [
        {
          "name": "stdout",
          "output_type": "stream",
          "text": [
            "Collecting numpy==1.26.4\n",
            "  Downloading numpy-1.26.4-cp312-cp312-manylinux_2_17_x86_64.manylinux2014_x86_64.whl.metadata (61 kB)\n",
            "Downloading numpy-1.26.4-cp312-cp312-manylinux_2_17_x86_64.manylinux2014_x86_64.whl (18.0 MB)\n",
            "\u001b[2K   \u001b[90m━━━━━━━━━━━━━━━━━━━━━━━━━━━━━━━━━━━━━━━━\u001b[0m \u001b[32m18.0/18.0 MB\u001b[0m \u001b[31m96.4 MB/s\u001b[0m eta \u001b[36m0:00:00\u001b[0m\n",
            "\u001b[?25hInstalling collected packages: numpy\n",
            "Successfully installed numpy-1.26.4\n"
          ]
        }
      ],
      "source": [
        "!pip install numpy==1.26.4\n"
      ]
    },
    {
      "cell_type": "code",
      "execution_count": null,
      "metadata": {
        "colab": {
          "base_uri": "https://localhost:8080/"
        },
        "id": "TfV5_F4iQ-rk",
        "outputId": "71073a6d-fb84-41db-b115-510885e4a190"
      },
      "outputs": [
        {
          "name": "stdout",
          "output_type": "stream",
          "text": [
            "2.0.2\n"
          ]
        }
      ],
      "source": [
        "import numpy as np\n",
        "print(np.__version__)  # Should print 1.26.4 or similar\n"
      ]
    },
    {
      "cell_type": "code",
      "execution_count": null,
      "metadata": {
        "colab": {
          "base_uri": "https://localhost:8080/"
        },
        "id": "tbpBd3qGNNKw",
        "outputId": "2cd07a99-ef86-44d6-9873-5640a845927e"
      },
      "outputs": [
        {
          "name": "stdout",
          "output_type": "stream",
          "text": [
            "2025-03-24 15:57:33.293141: E external/local_xla/xla/stream_executor/cuda/cuda_fft.cc:467] Unable to register cuFFT factory: Attempting to register factory for plugin cuFFT when one has already been registered\n",
            "WARNING: All log messages before absl::InitializeLog() is called are written to STDERR\n",
            "E0000 00:00:1742831853.327520   10020 cuda_dnn.cc:8579] Unable to register cuDNN factory: Attempting to register factory for plugin cuDNN when one has already been registered\n",
            "E0000 00:00:1742831853.337902   10020 cuda_blas.cc:1407] Unable to register cuBLAS factory: Attempting to register factory for plugin cuBLAS when one has already been registered\n",
            "W0000 00:00:1742831853.365880   10020 computation_placer.cc:177] computation placer already registered. Please check linkage and avoid linking the same target more than once.\n",
            "W0000 00:00:1742831853.365950   10020 computation_placer.cc:177] computation placer already registered. Please check linkage and avoid linking the same target more than once.\n",
            "W0000 00:00:1742831853.365956   10020 computation_placer.cc:177] computation placer already registered. Please check linkage and avoid linking the same target more than once.\n",
            "W0000 00:00:1742831853.365960   10020 computation_placer.cc:177] computation placer already registered. Please check linkage and avoid linking the same target more than once.\n",
            "2025-03-24 15:57:33.373794: I tensorflow/core/platform/cpu_feature_guard.cc:210] This TensorFlow binary is optimized to use available CPU instructions in performance-critical operations.\n",
            "To enable the following instructions: AVX2 FMA, in other operations, rebuild TensorFlow with the appropriate compiler flags.\n",
            "Traceback (most recent call last):\n",
            "  File \"/content/3DDFA-V3/demo.py\", line 77, in <module>\n",
            "    main(parser.parse_args())\n",
            "  File \"/content/3DDFA-V3/demo.py\", line 16, in main\n",
            "    facebox_detector = face_box(args).detector\n",
            "                       ^^^^^^^^^^^^^^\n",
            "  File \"/content/3DDFA-V3/face_box/__init__.py\", line 102, in __init__\n",
            "    r = retinaface(args.device)\n",
            "        ^^^^^^^^^^^^^^^^^^^^^^^\n",
            "  File \"/content/3DDFA-V3/face_box/__init__.py\", line 22, in __init__\n",
            "    self.landmark_model = LargeModelInfer(\"assets/large_base_net.pth\", device=device)\n",
            "                          ^^^^^^^^^^^^^^^^^^^^^^^^^^^^^^^^^^^^^^^^^^^^^^^^^^^^^^^^^^^\n",
            "  File \"/content/3DDFA-V3/face_box/facelandmark/large_model_infer.py\", line 87, in __init__\n",
            "    self.large_base_lmks_model = LargeBaseLmkInfer.model_preload(ckpt,  device.lower() == \"cuda\")\n",
            "                                 ^^^^^^^^^^^^^^^^^^^^^^^^^^^^^^^^^^^^^^^^^^^^^^^^^^^^^^^^^^^^^^^^\n",
            "  File \"/content/3DDFA-V3/face_box/facelandmark/large_base_lmks_infer.py\", line 22, in model_preload\n",
            "    checkpoint = torch.load(model_path, map_location='cpu')\n",
            "                 ^^^^^^^^^^^^^^^^^^^^^^^^^^^^^^^^^^^^^^^^^^\n",
            "  File \"/usr/local/miniconda/lib/python3.12/site-packages/torch/serialization.py\", line 1494, in load\n",
            "    raise pickle.UnpicklingError(_get_wo_message(str(e))) from None\n",
            "_pickle.UnpicklingError: Weights only load failed. This file can still be loaded, to do so you have two options, \u001b[1mdo those steps only if you trust the source of the checkpoint\u001b[0m. \n",
            "\t(1) In PyTorch 2.6, we changed the default value of the `weights_only` argument in `torch.load` from `False` to `True`. Re-running `torch.load` with `weights_only` set to `False` will likely succeed, but it can result in arbitrary code execution. Do it only if you got the file from a trusted source.\n",
            "\t(2) Alternatively, to load with `weights_only=True` please check the recommended steps in the following error message.\n",
            "\tWeightsUnpickler error: Unsupported global: GLOBAL numpy.core.multiarray.scalar was not an allowed global by default. Please use `torch.serialization.add_safe_globals([scalar])` or the `torch.serialization.safe_globals([scalar])` context manager to allowlist this global if you trust this class/function.\n",
            "\n",
            "Check the documentation of torch.load to learn more about types accepted by default with weights_only https://pytorch.org/docs/stable/generated/torch.load.html.\n"
          ]
        }
      ],
      "source": [
        "!python demo.py --inputpath /content/3DDFA-V3/my_images --savepath /content/3DDFA-V3/my_images/results --device cpu --iscrop 1 --detector retinaface --ldm68 1 --useTex 1 --extractTex 1 --backbone resnet50\n"
      ]
    },
    {
      "cell_type": "code",
      "execution_count": null,
      "metadata": {
        "colab": {
          "base_uri": "https://localhost:8080/"
        },
        "id": "d51WQguWlg3X",
        "outputId": "a22d8635-19b7-4558-bf82-544338e04cc5"
      },
      "outputs": [
        {
          "name": "stdout",
          "output_type": "stream",
          "text": [
            "Name: pyngrok\n",
            "Version: 7.2.3\n",
            "Summary: A Python wrapper for ngrok.\n",
            "Home-page: \n",
            "Author: \n",
            "Author-email: \n",
            "License: MIT License\n",
            "\n",
            "Copyright (c) 2018-2024 Alex Laird\n",
            "\n",
            "Permission is hereby granted, free of charge, to any person obtaining a copy\n",
            "of this software and associated documentation files (the \"Software\"), to deal\n",
            "in the Software without restriction, including without limitation the rights\n",
            "to use, copy, modify, merge, publish, distribute, sublicense, and/or sell\n",
            "copies of the Software, and to permit persons to whom the Software is\n",
            "furnished to do so, subject to the following conditions:\n",
            "\n",
            "The above copyright notice and this permission notice shall be included in all\n",
            "copies or substantial portions of the Software.\n",
            "\n",
            "THE SOFTWARE IS PROVIDED \"AS IS\", WITHOUT WARRANTY OF ANY KIND, EXPRESS OR\n",
            "IMPLIED, INCLUDING BUT NOT LIMITED TO THE WARRANTIES OF MERCHANTABILITY,\n",
            "FITNESS FOR A PARTICULAR PURPOSE AND NONINFRINGEMENT. IN NO EVENT SHALL THE\n",
            "AUTHORS OR COPYRIGHT HOLDERS BE LIABLE FOR ANY CLAIM, DAMAGES OR OTHER\n",
            "LIABILITY, WHETHER IN AN ACTION OF CONTRACT, TORT OR OTHERWISE, ARISING FROM,\n",
            "OUT OF OR IN CONNECTION WITH THE SOFTWARE OR THE USE OR OTHER DEALINGS IN THE\n",
            "SOFTWARE.\n",
            "\n",
            "Location: /usr/local/miniconda/lib/python3.12/site-packages\n",
            "Requires: PyYAML\n",
            "Required-by: \n"
          ]
        }
      ],
      "source": [
        "!pip show pyngrok\n"
      ]
    },
    {
      "cell_type": "code",
      "execution_count": null,
      "metadata": {
        "id": "hiGakbB4llSP"
      },
      "outputs": [],
      "source": [
        "import sys\n",
        "sys.path.append(\"/usr/local/miniconda/lib/python3.12/site-packages\")\n",
        "\n",
        "from pyngrok import ngrok\n"
      ]
    },
    {
      "cell_type": "code",
      "execution_count": null,
      "metadata": {
        "id": "4dNii9VeKY4b"
      },
      "outputs": [],
      "source": [
        "from pyngrok import ngrok\n",
        "ngrok.set_auth_token(\"2uMWVUGqdhDhw8QLoiQkeVywYwW_6QaNdJLEmk3WvxUrjWzpN\")\n"
      ]
    },
    {
      "cell_type": "code",
      "execution_count": null,
      "metadata": {
        "colab": {
          "base_uri": "https://localhost:8080/"
        },
        "id": "gRJ838E2K-aJ",
        "outputId": "bd54468f-9031-4600-c5c5-d2bc8d54c2d2"
      },
      "outputs": [
        {
          "name": "stdout",
          "output_type": "stream",
          "text": [
            "Collecting fastapi\n",
            "  Downloading fastapi-0.115.12-py3-none-any.whl.metadata (27 kB)\n",
            "Collecting uvicorn\n",
            "  Downloading uvicorn-0.34.0-py3-none-any.whl.metadata (6.5 kB)\n",
            "Collecting python-multipart\n",
            "  Downloading python_multipart-0.0.20-py3-none-any.whl.metadata (1.8 kB)\n",
            "Requirement already satisfied: pyngrok in /usr/local/miniconda/lib/python3.12/site-packages (7.2.3)\n",
            "Collecting starlette<0.47.0,>=0.40.0 (from fastapi)\n",
            "  Downloading starlette-0.46.1-py3-none-any.whl.metadata (6.2 kB)\n",
            "Requirement already satisfied: pydantic!=1.8,!=1.8.1,!=2.0.0,!=2.0.1,!=2.1.0,<3.0.0,>=1.7.4 in /usr/local/miniconda/lib/python3.12/site-packages (from fastapi) (2.10.3)\n",
            "Requirement already satisfied: typing-extensions>=4.8.0 in /usr/local/miniconda/lib/python3.12/site-packages (from fastapi) (4.12.2)\n",
            "Collecting click>=7.0 (from uvicorn)\n",
            "  Downloading click-8.1.8-py3-none-any.whl.metadata (2.3 kB)\n",
            "Collecting h11>=0.8 (from uvicorn)\n",
            "  Downloading h11-0.14.0-py3-none-any.whl.metadata (8.2 kB)\n",
            "Requirement already satisfied: PyYAML>=5.1 in /usr/local/miniconda/lib/python3.12/site-packages (from pyngrok) (6.0.2)\n",
            "Requirement already satisfied: annotated-types>=0.6.0 in /usr/local/miniconda/lib/python3.12/site-packages (from pydantic!=1.8,!=1.8.1,!=2.0.0,!=2.0.1,!=2.1.0,<3.0.0,>=1.7.4->fastapi) (0.6.0)\n",
            "Requirement already satisfied: pydantic-core==2.27.1 in /usr/local/miniconda/lib/python3.12/site-packages (from pydantic!=1.8,!=1.8.1,!=2.0.0,!=2.0.1,!=2.1.0,<3.0.0,>=1.7.4->fastapi) (2.27.1)\n",
            "Collecting anyio<5,>=3.6.2 (from starlette<0.47.0,>=0.40.0->fastapi)\n",
            "  Downloading anyio-4.9.0-py3-none-any.whl.metadata (4.7 kB)\n",
            "Requirement already satisfied: idna>=2.8 in /usr/local/miniconda/lib/python3.12/site-packages (from anyio<5,>=3.6.2->starlette<0.47.0,>=0.40.0->fastapi) (3.7)\n",
            "Collecting sniffio>=1.1 (from anyio<5,>=3.6.2->starlette<0.47.0,>=0.40.0->fastapi)\n",
            "  Downloading sniffio-1.3.1-py3-none-any.whl.metadata (3.9 kB)\n",
            "Downloading fastapi-0.115.12-py3-none-any.whl (95 kB)\n",
            "Downloading uvicorn-0.34.0-py3-none-any.whl (62 kB)\n",
            "Downloading python_multipart-0.0.20-py3-none-any.whl (24 kB)\n",
            "Downloading click-8.1.8-py3-none-any.whl (98 kB)\n",
            "Downloading h11-0.14.0-py3-none-any.whl (58 kB)\n",
            "Downloading starlette-0.46.1-py3-none-any.whl (71 kB)\n",
            "Downloading anyio-4.9.0-py3-none-any.whl (100 kB)\n",
            "Downloading sniffio-1.3.1-py3-none-any.whl (10 kB)\n",
            "Installing collected packages: sniffio, python-multipart, h11, click, uvicorn, anyio, starlette, fastapi\n",
            "Successfully installed anyio-4.9.0 click-8.1.8 fastapi-0.115.12 h11-0.14.0 python-multipart-0.0.20 sniffio-1.3.1 starlette-0.46.1 uvicorn-0.34.0\n"
          ]
        }
      ],
      "source": [
        "!pip install fastapi uvicorn python-multipart pyngrok\n"
      ]
    },
    {
      "cell_type": "code",
      "execution_count": null,
      "metadata": {
        "colab": {
          "base_uri": "https://localhost:8080/"
        },
        "id": "9VLEWUnpbYT3",
        "outputId": "3f640c05-6c9b-46b9-9640-8fc1d0ce4fa3"
      },
      "outputs": [
        {
          "name": "stdout",
          "output_type": "stream",
          "text": [
            "Collecting flask\n",
            "  Downloading flask-3.1.0-py3-none-any.whl.metadata (2.7 kB)\n",
            "Collecting flask-ngrok\n",
            "  Downloading flask_ngrok-0.0.25-py3-none-any.whl.metadata (1.8 kB)\n",
            "Requirement already satisfied: Werkzeug>=3.1 in /usr/local/miniconda/lib/python3.12/site-packages (from flask) (3.1.3)\n",
            "Requirement already satisfied: Jinja2>=3.1.2 in /usr/local/miniconda/lib/python3.12/site-packages (from flask) (3.1.4)\n",
            "Collecting itsdangerous>=2.2 (from flask)\n",
            "  Downloading itsdangerous-2.2.0-py3-none-any.whl.metadata (1.9 kB)\n",
            "Requirement already satisfied: click>=8.1.3 in /usr/local/miniconda/lib/python3.12/site-packages (from flask) (8.1.8)\n",
            "Collecting blinker>=1.9 (from flask)\n",
            "  Downloading blinker-1.9.0-py3-none-any.whl.metadata (1.6 kB)\n",
            "Requirement already satisfied: requests in /usr/local/miniconda/lib/python3.12/site-packages (from flask-ngrok) (2.32.3)\n",
            "Requirement already satisfied: MarkupSafe>=2.0 in /usr/local/miniconda/lib/python3.12/site-packages (from Jinja2>=3.1.2->flask) (2.1.5)\n",
            "Requirement already satisfied: charset-normalizer<4,>=2 in /usr/local/miniconda/lib/python3.12/site-packages (from requests->flask-ngrok) (3.3.2)\n",
            "Requirement already satisfied: idna<4,>=2.5 in /usr/local/miniconda/lib/python3.12/site-packages (from requests->flask-ngrok) (3.7)\n",
            "Requirement already satisfied: urllib3<3,>=1.21.1 in /usr/local/miniconda/lib/python3.12/site-packages (from requests->flask-ngrok) (2.3.0)\n",
            "Requirement already satisfied: certifi>=2017.4.17 in /usr/local/miniconda/lib/python3.12/site-packages (from requests->flask-ngrok) (2025.1.31)\n",
            "Downloading flask-3.1.0-py3-none-any.whl (102 kB)\n",
            "Downloading flask_ngrok-0.0.25-py3-none-any.whl (3.1 kB)\n",
            "Downloading blinker-1.9.0-py3-none-any.whl (8.5 kB)\n",
            "Downloading itsdangerous-2.2.0-py3-none-any.whl (16 kB)\n",
            "Installing collected packages: itsdangerous, blinker, flask, flask-ngrok\n",
            "Successfully installed blinker-1.9.0 flask-3.1.0 flask-ngrok-0.0.25 itsdangerous-2.2.0\n"
          ]
        }
      ],
      "source": [
        "!pip install flask flask-ngrok\n"
      ]
    },
    {
      "cell_type": "code",
      "execution_count": null,
      "metadata": {
        "colab": {
          "base_uri": "https://localhost:8080/"
        },
        "id": "O3yaYnSJ0muZ",
        "outputId": "9a2933c4-69be-466f-b20f-ad6b4c1d1a53"
      },
      "outputs": [
        {
          "name": "stdout",
          "output_type": "stream",
          "text": [
            "Collecting flask-cors\n",
            "  Downloading flask_cors-5.0.1-py3-none-any.whl.metadata (961 bytes)\n",
            "Requirement already satisfied: flask>=0.9 in /usr/local/miniconda/lib/python3.12/site-packages (from flask-cors) (3.1.0)\n",
            "Requirement already satisfied: Werkzeug>=0.7 in /usr/local/miniconda/lib/python3.12/site-packages (from flask-cors) (3.1.3)\n",
            "Requirement already satisfied: Jinja2>=3.1.2 in /usr/local/miniconda/lib/python3.12/site-packages (from flask>=0.9->flask-cors) (3.1.4)\n",
            "Requirement already satisfied: itsdangerous>=2.2 in /usr/local/miniconda/lib/python3.12/site-packages (from flask>=0.9->flask-cors) (2.2.0)\n",
            "Requirement already satisfied: click>=8.1.3 in /usr/local/miniconda/lib/python3.12/site-packages (from flask>=0.9->flask-cors) (8.1.8)\n",
            "Requirement already satisfied: blinker>=1.9 in /usr/local/miniconda/lib/python3.12/site-packages (from flask>=0.9->flask-cors) (1.9.0)\n",
            "Requirement already satisfied: MarkupSafe>=2.1.1 in /usr/local/miniconda/lib/python3.12/site-packages (from Werkzeug>=0.7->flask-cors) (2.1.5)\n",
            "Downloading flask_cors-5.0.1-py3-none-any.whl (11 kB)\n",
            "Installing collected packages: flask-cors\n",
            "Successfully installed flask-cors-5.0.1\n"
          ]
        }
      ],
      "source": [
        "!pip install flask-cors\n"
      ]
    },
    {
      "cell_type": "code",
      "execution_count": null,
      "metadata": {
        "colab": {
          "base_uri": "https://localhost:8080/",
          "height": 385
        },
        "id": "hwZNacq7b0LQ",
        "outputId": "cb28f7b4-12c6-40a9-bac3-951c8670753d"
      },
      "outputs": [
        {
          "ename": "ModuleNotFoundError",
          "evalue": "No module named 'flask_cors'",
          "output_type": "error",
          "traceback": [
            "\u001b[0;31m---------------------------------------------------------------------------\u001b[0m",
            "\u001b[0;31mModuleNotFoundError\u001b[0m                       Traceback (most recent call last)",
            "\u001b[0;32m<ipython-input-28-ddbcb2c310c2>\u001b[0m in \u001b[0;36m<cell line: 0>\u001b[0;34m()\u001b[0m\n\u001b[0;32m----> 1\u001b[0;31m \u001b[0;32mfrom\u001b[0m \u001b[0mflask_cors\u001b[0m \u001b[0;32mimport\u001b[0m \u001b[0mCORS\u001b[0m\u001b[0;34m\u001b[0m\u001b[0;34m\u001b[0m\u001b[0m\n\u001b[0m\u001b[1;32m      2\u001b[0m \u001b[0;34m\u001b[0m\u001b[0m\n\u001b[1;32m      3\u001b[0m \u001b[0mapp\u001b[0m \u001b[0;34m=\u001b[0m \u001b[0mFlask\u001b[0m\u001b[0;34m(\u001b[0m\u001b[0m__name__\u001b[0m\u001b[0;34m)\u001b[0m\u001b[0;34m\u001b[0m\u001b[0;34m\u001b[0m\u001b[0m\n\u001b[1;32m      4\u001b[0m \u001b[0mCORS\u001b[0m\u001b[0;34m(\u001b[0m\u001b[0mapp\u001b[0m\u001b[0;34m)\u001b[0m  \u001b[0;31m# Allow all origins\u001b[0m\u001b[0;34m\u001b[0m\u001b[0;34m\u001b[0m\u001b[0m\n\u001b[1;32m      5\u001b[0m \u001b[0;34m\u001b[0m\u001b[0m\n",
            "\u001b[0;31mModuleNotFoundError\u001b[0m: No module named 'flask_cors'",
            "",
            "\u001b[0;31m---------------------------------------------------------------------------\u001b[0;32m\nNOTE: If your import is failing due to a missing package, you can\nmanually install dependencies using either !pip or !apt.\n\nTo view examples of installing some common dependencies, click the\n\"Open Examples\" button below.\n\u001b[0;31m---------------------------------------------------------------------------\u001b[0m\n"
          ]
        }
      ],
      "source": [
        "from flask_cors import CORS\n",
        "\n",
        "app = Flask(__name__)\n",
        "CORS(app)  # Allow all origins\n",
        "\n"
      ]
    },
    {
      "cell_type": "code",
      "execution_count": null,
      "metadata": {
        "colab": {
          "base_uri": "https://localhost:8080/"
        },
        "id": "we6UQuLH2KIR",
        "outputId": "4b59a574-e04e-4335-b710-d36776d68a2a"
      },
      "outputs": [
        {
          "data": {
            "text/plain": [
              "<flask_cors.extension.CORS at 0x7e759576ef10>"
            ]
          },
          "execution_count": 67,
          "metadata": {},
          "output_type": "execute_result"
        }
      ],
      "source": [
        "CORS(app, resources={r\"/*\": {\"origins\": \"http://localhost:3000\"}})  # Adjust port if needed\n"
      ]
    },
    {
      "cell_type": "code",
      "execution_count": null,
      "metadata": {
        "id": "K5A8DKJ1cBzB"
      },
      "outputs": [],
      "source": [
        "!nohup python -u app.py > flask.log 2>&1 &\n"
      ]
    },
    {
      "cell_type": "code",
      "execution_count": null,
      "metadata": {
        "colab": {
          "base_uri": "https://localhost:8080/"
        },
        "id": "A_JNwsZ8c4Qq",
        "outputId": "26f72914-0713-4a74-b40a-678ee84fa4a1"
      },
      "outputs": [
        {
          "name": "stdout",
          "output_type": "stream",
          "text": [
            "Requirement already satisfied: pyngrok in /usr/local/miniconda/lib/python3.12/site-packages (7.2.3)\n",
            "Requirement already satisfied: PyYAML>=5.1 in /usr/local/miniconda/lib/python3.12/site-packages (from pyngrok) (6.0.2)\n",
            "🚀 Public URL: NgrokTunnel: \"https://0be0-35-221-199-220.ngrok-free.app\" -> \"http://localhost:5000\"\n"
          ]
        }
      ],
      "source": [
        "!pip install pyngrok\n",
        "from pyngrok import ngrok\n",
        "\n",
        "# Kill any previous ngrok process\n",
        "!pkill -f ngrok\n",
        "\n",
        "# Start ngrok on port 3000\n",
        "public_url = ngrok.connect(5000)\n",
        "print(f\"🚀 Public URL: {public_url}\")\n"
      ]
    },
    {
      "cell_type": "code",
      "execution_count": null,
      "metadata": {
        "colab": {
          "base_uri": "https://localhost:8080/"
        },
        "id": "TQMJYZ-i7zBU",
        "outputId": "7358206e-b6bb-4d2f-8f00-2885cebfca8d"
      },
      "outputs": [
        {
          "name": "stdout",
          "output_type": "stream",
          "text": [
            "COMMAND  PID USER   FD   TYPE DEVICE SIZE/OFF NODE NAME\n",
            "python3 1851 root   51u  IPv4  93109      0t0  TCP *:5000 (LISTEN)\n"
          ]
        }
      ],
      "source": [
        "! lsof -i :5000\n"
      ]
    },
    {
      "cell_type": "code",
      "execution_count": null,
      "metadata": {
        "id": "Lk3Y6DbU8Rf-"
      },
      "outputs": [],
      "source": [
        "! kill -9 1851  # Replace 12345 with the actual PID\n",
        "  # Replace 12345 with the actual PID\n"
      ]
    },
    {
      "cell_type": "code",
      "execution_count": null,
      "metadata": {
        "colab": {
          "base_uri": "https://localhost:8080/"
        },
        "id": "nMOjZk0x64Vf",
        "outputId": "4b5ad3d7-a0da-41c0-9191-38cc8e44176b"
      },
      "outputs": [
        {
          "name": "stdout",
          "output_type": "stream",
          "text": [
            "🚀 Public URL: NgrokTunnel: \"https://f790-34-148-76-25.ngrok-free.app\" -> \"http://localhost:5000\"\n",
            "🚀 Flask is running in the background! You can now run other cells.\n",
            " * Serving Flask app '__main__'\n",
            " * Debug mode: off\n"
          ]
        }
      ],
      "source": [
        "import threading\n",
        "import os\n",
        "import glob\n",
        "import subprocess\n",
        "from pathlib import Path\n",
        "from flask import Flask, request, send_file, jsonify\n",
        "from flask_cors import CORS  # Import CORS before using it\n",
        "from pyngrok import ngrok\n",
        "\n",
        "# Initialize Flask app\n",
        "app = Flask(__name__)\n",
        "\n",
        "# Enable CORS (Allow all origins)\n",
        "CORS(app)\n",
        "\n",
        "# Define paths\n",
        "input_dir = Path(\"/content/3DDFA-V3/my_images\")\n",
        "output_dir = Path(\"/content/3DDFA-V3/my_images/results\")\n",
        "input_dir.mkdir(parents=True, exist_ok=True)\n",
        "output_dir.mkdir(parents=True, exist_ok=True)\n",
        "\n",
        "# Kill any previous ngrok process\n",
        "os.system(\"pkill -f ngrok\")\n",
        "\n",
        "# Start ngrok on port 5000\n",
        "public_url = ngrok.connect(5000)\n",
        "print(f\"🚀 Public URL: {public_url}\")\n",
        "\n",
        "@app.route(\"/\")\n",
        "def home():\n",
        "    return jsonify({\"message\": \"3D Face Reconstruction API is running! Use /upload to process an image.\"})\n",
        "\n",
        "@app.route(\"/upload\", methods=[\"POST\"])\n",
        "def upload_image():\n",
        "    if \"file\" not in request.files:\n",
        "        return jsonify({\"error\": \"No file provided\"}), 400\n",
        "\n",
        "    file = request.files[\"file\"]\n",
        "    save_path = input_dir / file.filename\n",
        "    file.save(save_path)\n",
        "\n",
        "    # Run the model\n",
        "    command = f\"python demo.py --inputpath {input_dir} --savepath {output_dir} --device cpu --iscrop 1 --detector retinaface --ldm68 1 --useTex 1 --extractTex 1 --backbone resnet50\"\n",
        "    subprocess.run(command, shell=True)\n",
        "\n",
        "    # Search for .obj files in subdirectories\n",
        "    obj_files = glob.glob(f\"{output_dir}/{file.filename.split('.')[0]}/**/*.obj\", recursive=True)\n",
        "\n",
        "    if obj_files:\n",
        "        obj_filename = obj_files[0].split(\"/\")[-1]  # Extract filename only\n",
        "        return jsonify({\"message\": \"Processing completed\", \"obj_file\": f\"/download/{obj_filename}\"}), 200\n",
        "    else:\n",
        "        return jsonify({\"error\": \"OBJ file not found\"}), 404\n",
        "\n",
        "@app.route(\"/download/<filename>\", methods=[\"GET\"])\n",
        "def download_file(filename):\n",
        "    file_paths = glob.glob(f\"{output_dir}/**/{filename}\", recursive=True)\n",
        "    if file_paths:\n",
        "        return send_file(file_paths[0], as_attachment=True)\n",
        "    return jsonify({\"error\": \"File not found\"}), 404\n",
        "\n",
        "# Function to run Flask in a separate thread\n",
        "def run_flask():\n",
        "    app.run(host=\"0.0.0.0\", port=5000)\n",
        "\n",
        "# Start Flask in a thread\n",
        "thread = threading.Thread(target=run_flask, daemon=True)\n",
        "thread.start()\n",
        "\n",
        "print(\"🚀 Flask is running in the background! You can now run other cells.\")\n"
      ]
    },
    {
      "cell_type": "code",
      "execution_count": null,
      "metadata": {
        "colab": {
          "base_uri": "https://localhost:8080/"
        },
        "id": "3LmbrHgYi4Wp",
        "outputId": "f46fa8b9-0690-4b94-ab35-6eed113c076a"
      },
      "outputs": [
        {
          "name": "stderr",
          "output_type": "stream",
          "text": [
            "WARNING:pyngrok.process.ngrok:t=2025-03-15T16:47:41+0000 lvl=warn msg=\"failed to open private leg\" id=5ecbf01ebf85 privaddr=localhost:3000 err=\"dial tcp 127.0.0.1:3000: connect: connection refused\"\n",
            "WARNING:pyngrok.process.ngrok:t=2025-03-15T16:47:41+0000 lvl=warn msg=\"failed to open private leg\" id=e987a1ab10c4 privaddr=localhost:3000 err=\"dial tcp 127.0.0.1:3000: connect: connection refused\"\n"
          ]
        },
        {
          "name": "stdout",
          "output_type": "stream",
          "text": [
            "<!DOCTYPE html>\n",
            "<html class=\"h-full\" lang=\"en-US\" dir=\"ltr\">\n",
            "  <head>\n",
            "    <link rel=\"preload\" href=\"https://cdn.ngrok.com/static/fonts/euclid-square/EuclidSquare-Regular-WebS.woff\" as=\"font\" type=\"font/woff\" crossorigin=\"anonymous\" />\n",
            "    <link rel=\"preload\" href=\"https://cdn.ngrok.com/static/fonts/euclid-square/EuclidSquare-RegularItalic-WebS.woff\" as=\"font\" type=\"font/woff\" crossorigin=\"anonymous\" />\n",
            "    <link rel=\"preload\" href=\"https://cdn.ngrok.com/static/fonts/euclid-square/EuclidSquare-Medium-WebS.woff\" as=\"font\" type=\"font/woff\" crossorigin=\"anonymous\" />\n",
            "    <link rel=\"preload\" href=\"https://cdn.ngrok.com/static/fonts/euclid-square/EuclidSquare-Semibold-WebS.woff\" as=\"font\" type=\"font/woff\" crossorigin=\"anonymous\" />\n",
            "    <link rel=\"preload\" href=\"https://cdn.ngrok.com/static/fonts/euclid-square/EuclidSquare-MediumItalic-WebS.woff\" as=\"font\" type=\"font/woff\" crossorigin=\"anonymous\" />\n",
            "    <link rel=\"preload\" href=\"https://cdn.ngrok.com/static/fonts/ibm-plex-mono/IBMPlexMono-Text.woff\" as=\"font\" type=\"font/woff\" crossorigin=\"anonymous\" />\n",
            "    <link rel=\"preload\" href=\"https://cdn.ngrok.com/static/fonts/ibm-plex-mono/IBMPlexMono-TextItalic.woff\" as=\"font\" type=\"font/woff\" crossorigin=\"anonymous\" />\n",
            "    <link rel=\"preload\" href=\"https://cdn.ngrok.com/static/fonts/ibm-plex-mono/IBMPlexMono-SemiBold.woff\" as=\"font\" type=\"font/woff\" crossorigin=\"anonymous\" />\n",
            "    <link rel=\"preload\" href=\"https://cdn.ngrok.com/static/fonts/ibm-plex-mono/IBMPlexMono-SemiBoldItalic.woff\" as=\"font\" type=\"font/woff\" crossorigin=\"anonymous\" />\n",
            "    <meta charset=\"utf-8\">\n",
            "    <meta name=\"author\" content=\"ngrok\">\n",
            "    <meta name=\"description\" content=\"ngrok is the fastest way to put anything on the internet with a single command.\">\n",
            "    <meta name=\"robots\" content=\"noindex, nofollow\">\n",
            "    <meta name=\"viewport\" content=\"width=device-width, initial-scale=1\">\n",
            "    <link id=\"style\" rel=\"stylesheet\" href=\"https://cdn.ngrok.com/static/css/error.css\">\n",
            "    <noscript>Traffic was successfully tunneled to the ngrok agent, but the agent failed to establish a connection to the upstream web service at localhost:3000. (ERR_NGROK_8012)</noscript>\n",
            "    <script id=\"script\" src=\"https://cdn.ngrok.com/static/js/error.js\" type=\"text/javascript\"></script>\n",
            "  </head>\n",
            "  <body class=\"h-full\" id=\"ngrok\">\n",
            "    <div id=\"root\" data-payload=\"eyJhZGRyIjoibG9jYWxob3N0OjMwMDAiLCJjZG5CYXNlIjoiaHR0cHM6Ly9jZG4ubmdyb2suY29tLyIsImNvZGUiOiI4MDEyIiwiZXJyb3JUZXh0IjoiZGlhbCB0Y3AgMTI3LjAuMC4xOjMwMDA6IGNvbm5lY3Q6IGNvbm5lY3Rpb24gcmVmdXNlZCIsIm1lc3NhZ2UiOiJUcmFmZmljIHdhcyBzdWNjZXNzZnVsbHkgdHVubmVsZWQgdG8gdGhlIG5ncm9rIGFnZW50LCBidXQgdGhlIGFnZW50IGZhaWxlZCB0byBlc3RhYmxpc2ggYSBjb25uZWN0aW9uIHRvIHRoZSB1cHN0cmVhbSB3ZWIgc2VydmljZSBhdCBsb2NhbGhvc3Q6MzAwMC4iLCJzY2hlbWUiOiJodHRwIiwidGl0bGUiOiJCYWQgUmVxdWVzdCJ9\"></div>\n",
            "  </body>\n",
            "</html>\n"
          ]
        }
      ],
      "source": [
        "!curl -X POST -F \"file=@/content/3DDFA-V3/my_images/samplei.png\" https://0dd4-34-148-106-178.ngrok-free.app////upload\n",
        "\n"
      ]
    },
    {
      "cell_type": "code",
      "execution_count": null,
      "metadata": {
        "colab": {
          "base_uri": "https://localhost:8080/"
        },
        "id": "ppODy-sXKs19",
        "outputId": "8582ca2b-afec-46f1-f157-9001745cf9ba"
      },
      "outputs": [
        {
          "name": "stdout",
          "output_type": "stream",
          "text": [
            "🚀 Flask is running in the background! You can now run other cells.\n",
            " * Serving Flask app '__main__'\n"
          ]
        }
      ],
      "source": [
        "import threading\n",
        "from flask import Flask, request, send_file, jsonify\n",
        "from pathlib import Path\n",
        "import os\n",
        "import glob\n",
        "import subprocess\n",
        "\n",
        "app = Flask(__name__)\n",
        "\n",
        "# Define paths\n",
        "input_dir = Path(\"/content/3DDFA-V3/my_images\")\n",
        "output_dir = Path(\"/content/3DDFA-V3/my_images/results\")\n",
        "input_dir.mkdir(parents=True, exist_ok=True)\n",
        "output_dir.mkdir(parents=True, exist_ok=True)\n",
        "\n",
        "@app.route(\"/\")\n",
        "def home():\n",
        "    return jsonify({\"message\": \"3D Face Reconstruction API is running! Use /upload to process an image.\"})\n",
        "\n",
        "@app.route(\"/upload\", methods=[\"POST\"])\n",
        "def upload_image():\n",
        "    if \"file\" not in request.files:\n",
        "        return jsonify({\"error\": \"No file provided\"}), 400\n",
        "\n",
        "    file = request.files[\"file\"]\n",
        "    save_path = input_dir / file.filename\n",
        "    file.save(save_path)\n",
        "\n",
        "    # Run the model\n",
        "    command = f\"python demo.py --inputpath {input_dir} --savepath {output_dir} --device cpu --iscrop 1 --detector retinaface --ldm68 1 --useTex 1 --extractTex 1 --backbone resnet50\"\n",
        "    subprocess.run(command, shell=True)\n",
        "\n",
        "    # Search for .obj files in subdirectories\n",
        "    obj_files = glob.glob(f\"{output_dir}/{file.filename.split('.')[0]}/**/*.obj\", recursive=True)\n",
        "\n",
        "    if obj_files:\n",
        "        obj_filename = obj_files[0].split(\"/\")[-1]  # Extract filename only\n",
        "        return jsonify({\"message\": \"Processing completed\", \"obj_file\": f\"/download/{obj_filename}\"}), 200\n",
        "    else:\n",
        "        return jsonify({\"error\": \"OBJ file not found\"}), 404\n",
        "\n",
        "@app.route(\"/download/<filename>\", methods=[\"GET\"])\n",
        "def download_file(filename):\n",
        "    file_paths = glob.glob(f\"{output_dir}/**/{filename}\", recursive=True)\n",
        "    if file_paths:\n",
        "        return send_file(file_paths[0], as_attachment=True)\n",
        "    return jsonify({\"error\": \"File not found\"}), 404\n",
        "\n",
        "# Function to run Flask in a separate thread\n",
        "def run_flask():\n",
        "    app.run(host=\"0.0.0.0\", port=5000)\n",
        "\n",
        "# Start Flask in a thread\n",
        "thread = threading.Thread(target=run_flask, daemon=True)\n",
        "thread.start()\n",
        "\n",
        "print(\"🚀 Flask is running in the background! You can now run other cells.\")\n"
      ]
    },
    {
      "cell_type": "code",
      "execution_count": null,
      "metadata": {
        "colab": {
          "base_uri": "https://localhost:8080/"
        },
        "id": "TnKXJMqSg_Yz",
        "outputId": "d9764db9-d607-4e26-c463-7b2b6d57dd15"
      },
      "outputs": [
        {
          "name": "stdout",
          "output_type": "stream",
          "text": [
            "shubman-gill\n"
          ]
        }
      ],
      "source": [
        "!ls /content/3DDFA-V3/my_images/results\n"
      ]
    },
    {
      "cell_type": "code",
      "execution_count": null,
      "metadata": {
        "colab": {
          "base_uri": "https://localhost:8080/"
        },
        "id": "YCsEzJpNaSHP",
        "outputId": "36aa87d7-b176-42e3-ff0d-1eb00a65a00f"
      },
      "outputs": [
        {
          "name": "stdout",
          "output_type": "stream",
          "text": [
            "root       33565  0.0  0.0   7376  3548 ?        S    17:50   0:00 /bin/bash -c ps aux | grep ngrok\n",
            "root       33567  0.0  0.0   6484  2220 ?        S    17:50   0:00 grep ngrok\n"
          ]
        }
      ],
      "source": [
        "!ps aux | grep ngrok\n"
      ]
    },
    {
      "cell_type": "code",
      "execution_count": null,
      "metadata": {
        "colab": {
          "base_uri": "https://localhost:8080/"
        },
        "id": "tzHPg6zm7fZw",
        "outputId": "d04c8d0e-4f81-4dfd-d838-4f1be0acbb53"
      },
      "outputs": [
        {
          "name": "stdout",
          "output_type": "stream",
          "text": [
            "    PID TTY      STAT   TIME COMMAND\n"
          ]
        }
      ],
      "source": [
        "!ps -9 33565"
      ]
    },
    {
      "cell_type": "code",
      "execution_count": null,
      "metadata": {
        "colab": {
          "base_uri": "https://localhost:8080/"
        },
        "id": "1SIbcsgcbFqj",
        "outputId": "f2d9ec5f-02d6-419e-af3b-24402a4a5974"
      },
      "outputs": [
        {
          "name": "stdout",
          "output_type": "stream",
          "text": [
            "root       33481  0.0  0.0   7376  3384 ?        S    17:50   0:00 /bin/bash -c  ps aux | grep flask\n",
            "root       33483  0.0  0.0   6484  2268 ?        S    17:50   0:00 grep flask\n"
          ]
        }
      ],
      "source": [
        "! ps aux | grep flask\n"
      ]
    },
    {
      "cell_type": "code",
      "execution_count": null,
      "metadata": {
        "colab": {
          "base_uri": "https://localhost:8080/"
        },
        "id": "wyR7CNOCaC0k",
        "outputId": "c0eaf0cf-0835-40a6-dfc7-4a735002cdcb"
      },
      "outputs": [
        {
          "name": "stdout",
          "output_type": "stream",
          "text": [
            "<!DOCTYPE html>\n",
            "<html class=\"h-full\" lang=\"en-US\" dir=\"ltr\">\n",
            "  <head>\n",
            "    <link rel=\"preload\" href=\"https://cdn.ngrok.com/static/fonts/euclid-square/EuclidSquare-Regular-WebS.woff\" as=\"font\" type=\"font/woff\" crossorigin=\"anonymous\" />\n",
            "    <link rel=\"preload\" href=\"https://cdn.ngrok.com/static/fonts/euclid-square/EuclidSquare-RegularItalic-WebS.woff\" as=\"font\" type=\"font/woff\" crossorigin=\"anonymous\" />\n",
            "    <link rel=\"preload\" href=\"https://cdn.ngrok.com/static/fonts/euclid-square/EuclidSquare-Medium-WebS.woff\" as=\"font\" type=\"font/woff\" crossorigin=\"anonymous\" />\n",
            "    <link rel=\"preload\" href=\"https://cdn.ngrok.com/static/fonts/euclid-square/EuclidSquare-Semibold-WebS.woff\" as=\"font\" type=\"font/woff\" crossorigin=\"anonymous\" />\n",
            "    <link rel=\"preload\" href=\"https://cdn.ngrok.com/static/fonts/euclid-square/EuclidSquare-MediumItalic-WebS.woff\" as=\"font\" type=\"font/woff\" crossorigin=\"anonymous\" />\n",
            "    <link rel=\"preload\" href=\"https://cdn.ngrok.com/static/fonts/ibm-plex-mono/IBMPlexMono-Text.woff\" as=\"font\" type=\"font/woff\" crossorigin=\"anonymous\" />\n",
            "    <link rel=\"preload\" href=\"https://cdn.ngrok.com/static/fonts/ibm-plex-mono/IBMPlexMono-TextItalic.woff\" as=\"font\" type=\"font/woff\" crossorigin=\"anonymous\" />\n",
            "    <link rel=\"preload\" href=\"https://cdn.ngrok.com/static/fonts/ibm-plex-mono/IBMPlexMono-SemiBold.woff\" as=\"font\" type=\"font/woff\" crossorigin=\"anonymous\" />\n",
            "    <link rel=\"preload\" href=\"https://cdn.ngrok.com/static/fonts/ibm-plex-mono/IBMPlexMono-SemiBoldItalic.woff\" as=\"font\" type=\"font/woff\" crossorigin=\"anonymous\" />\n",
            "    <meta charset=\"utf-8\">\n",
            "    <meta name=\"author\" content=\"ngrok\">\n",
            "    <meta name=\"description\" content=\"ngrok is the fastest way to put anything on the internet with a single command.\">\n",
            "    <meta name=\"robots\" content=\"noindex, nofollow\">\n",
            "    <meta name=\"viewport\" content=\"width=device-width, initial-scale=1\">\n",
            "    <link id=\"style\" rel=\"stylesheet\" href=\"https://cdn.ngrok.com/static/css/error.css\">\n",
            "    <noscript>Traffic was successfully tunneled to the ngrok agent, but the agent failed to establish a connection to the upstream web service at localhost:8008. (ERR_NGROK_8012)</noscript>\n",
            "    <script id=\"script\" src=\"https://cdn.ngrok.com/static/js/error.js\" type=\"text/javascript\"></script>\n",
            "  </head>\n",
            "  <body class=\"h-full\" id=\"ngrok\">\n",
            "    <div id=\"root\" data-payload=\"eyJhZGRyIjoibG9jYWxob3N0OjgwMDgiLCJjZG5CYXNlIjoiaHR0cHM6Ly9jZG4ubmdyb2suY29tLyIsImNvZGUiOiI4MDEyIiwiZXJyb3JUZXh0IjoiZGlhbCB0Y3AgMTI3LjAuMC4xOjgwMDg6IGNvbm5lY3Q6IGNvbm5lY3Rpb24gcmVmdXNlZCIsIm1lc3NhZ2UiOiJUcmFmZmljIHdhcyBzdWNjZXNzZnVsbHkgdHVubmVsZWQgdG8gdGhlIG5ncm9rIGFnZW50LCBidXQgdGhlIGFnZW50IGZhaWxlZCB0byBlc3RhYmxpc2ggYSBjb25uZWN0aW9uIHRvIHRoZSB1cHN0cmVhbSB3ZWIgc2VydmljZSBhdCBsb2NhbGhvc3Q6ODAwOC4iLCJzY2hlbWUiOiJodHRwIiwidGl0bGUiOiJCYWQgUmVxdWVzdCJ9\"></div>\n",
            "  </body>\n",
            "</html>\n"
          ]
        }
      ],
      "source": [
        "! curl -X POST \"https://30d4-34-56-34-230.ngrok-free.app/upload\" \\\n",
        "     -F \"file=@/content/3DDFA-V3/my_images/shubman-gill.png\"\n"
      ]
    },
    {
      "cell_type": "code",
      "execution_count": null,
      "metadata": {
        "colab": {
          "base_uri": "https://localhost:8080/"
        },
        "id": "KhduruuKRYO0",
        "outputId": "ae657829-9a9f-4de0-ff5e-ea826337c7ac"
      },
      "outputs": [
        {
          "name": "stderr",
          "output_type": "stream",
          "text": [
            "INFO:werkzeug:127.0.0.1 - - [15/Mar/2025 10:34:01] \"\u001b[33mPOST /upload HTTP/1.1\u001b[0m\" 404 -\n"
          ]
        },
        {
          "name": "stdout",
          "output_type": "stream",
          "text": [
            "{\"error\":\"OBJ file not found\"}\n"
          ]
        }
      ],
      "source": [
        "!curl -X POST \"https://c6a6-34-56-34-230.ngrok-free.app//upload\" -F \"file=@//content/3DDFA-V3/my_images\"\n"
      ]
    },
    {
      "cell_type": "code",
      "execution_count": null,
      "metadata": {
        "id": "HBtaH4AUPPFk"
      },
      "outputs": [],
      "source": [
        "#download"
      ]
    },
    {
      "cell_type": "code",
      "execution_count": null,
      "metadata": {
        "colab": {
          "base_uri": "https://localhost:8080/"
        },
        "id": "tswV78Jik8bL",
        "outputId": "f331abb6-e7c7-4d18-a900-b0d99cebb0aa"
      },
      "outputs": [
        {
          "name": "stdout",
          "output_type": "stream",
          "text": [
            "Requirement already satisfied: mtcnn in /usr/local/miniconda/lib/python3.12/site-packages (1.0.0)\n",
            "Requirement already satisfied: joblib>=1.4.2 in /usr/local/miniconda/lib/python3.12/site-packages (from mtcnn) (1.4.2)\n",
            "Requirement already satisfied: lz4>=4.3.3 in /usr/local/miniconda/lib/python3.12/site-packages (from mtcnn) (4.4.3)\n"
          ]
        }
      ],
      "source": [
        "!pip install mtcnn"
      ]
    },
    {
      "cell_type": "code",
      "execution_count": null,
      "metadata": {
        "colab": {
          "base_uri": "https://localhost:8080/"
        },
        "id": "CllOwtn-QTGK",
        "outputId": "3c04bbea-96d1-4477-a4ea-fe1120396b98"
      },
      "outputs": [
        {
          "name": "stdout",
          "output_type": "stream",
          "text": [
            "Found existing installation: torch 2.6.0+cu118\n",
            "Uninstalling torch-2.6.0+cu118:\n",
            "  Successfully uninstalled torch-2.6.0+cu118\n",
            "Found existing installation: torchvision 0.21.0+cu118\n",
            "Uninstalling torchvision-0.21.0+cu118:\n",
            "  Successfully uninstalled torchvision-0.21.0+cu118\n",
            "Found existing installation: torchaudio 2.6.0+cu118\n",
            "Uninstalling torchaudio-2.6.0+cu118:\n",
            "  Successfully uninstalled torchaudio-2.6.0+cu118\n",
            "Files removed: 404 (3784.5 MB)\n",
            "Looking in indexes: https://download.pytorch.org/whl/cu118\n",
            "Collecting torch\n",
            "  Downloading https://download.pytorch.org/whl/cu118/torch-2.6.0%2Bcu118-cp312-cp312-linux_x86_64.whl.metadata (27 kB)\n",
            "Collecting torchvision\n",
            "  Downloading https://download.pytorch.org/whl/cu118/torchvision-0.21.0%2Bcu118-cp312-cp312-linux_x86_64.whl.metadata (6.1 kB)\n",
            "Collecting torchaudio\n",
            "  Downloading https://download.pytorch.org/whl/cu118/torchaudio-2.6.0%2Bcu118-cp312-cp312-linux_x86_64.whl.metadata (6.6 kB)\n",
            "Requirement already satisfied: filelock in /usr/local/miniconda/lib/python3.12/site-packages (from torch) (3.13.1)\n",
            "Requirement already satisfied: typing-extensions>=4.10.0 in /usr/local/miniconda/lib/python3.12/site-packages (from torch) (4.12.2)\n",
            "Requirement already satisfied: networkx in /usr/local/miniconda/lib/python3.12/site-packages (from torch) (3.3)\n",
            "Requirement already satisfied: jinja2 in /usr/local/miniconda/lib/python3.12/site-packages (from torch) (3.1.4)\n",
            "Requirement already satisfied: fsspec in /usr/local/miniconda/lib/python3.12/site-packages (from torch) (2024.6.1)\n",
            "Requirement already satisfied: nvidia-cuda-nvrtc-cu11==11.8.89 in /usr/local/miniconda/lib/python3.12/site-packages (from torch) (11.8.89)\n",
            "Requirement already satisfied: nvidia-cuda-runtime-cu11==11.8.89 in /usr/local/miniconda/lib/python3.12/site-packages (from torch) (11.8.89)\n",
            "Requirement already satisfied: nvidia-cuda-cupti-cu11==11.8.87 in /usr/local/miniconda/lib/python3.12/site-packages (from torch) (11.8.87)\n",
            "Requirement already satisfied: nvidia-cudnn-cu11==9.1.0.70 in /usr/local/miniconda/lib/python3.12/site-packages (from torch) (9.1.0.70)\n",
            "Requirement already satisfied: nvidia-cublas-cu11==11.11.3.6 in /usr/local/miniconda/lib/python3.12/site-packages (from torch) (11.11.3.6)\n",
            "Requirement already satisfied: nvidia-cufft-cu11==10.9.0.58 in /usr/local/miniconda/lib/python3.12/site-packages (from torch) (10.9.0.58)\n",
            "Requirement already satisfied: nvidia-curand-cu11==10.3.0.86 in /usr/local/miniconda/lib/python3.12/site-packages (from torch) (10.3.0.86)\n",
            "Requirement already satisfied: nvidia-cusolver-cu11==11.4.1.48 in /usr/local/miniconda/lib/python3.12/site-packages (from torch) (11.4.1.48)\n",
            "Requirement already satisfied: nvidia-cusparse-cu11==11.7.5.86 in /usr/local/miniconda/lib/python3.12/site-packages (from torch) (11.7.5.86)\n",
            "Requirement already satisfied: nvidia-nccl-cu11==2.21.5 in /usr/local/miniconda/lib/python3.12/site-packages (from torch) (2.21.5)\n",
            "Requirement already satisfied: nvidia-nvtx-cu11==11.8.86 in /usr/local/miniconda/lib/python3.12/site-packages (from torch) (11.8.86)\n",
            "Requirement already satisfied: triton==3.2.0 in /usr/local/miniconda/lib/python3.12/site-packages (from torch) (3.2.0)\n",
            "Requirement already satisfied: setuptools in /usr/local/miniconda/lib/python3.12/site-packages (from torch) (75.8.0)\n",
            "Requirement already satisfied: sympy==1.13.1 in /usr/local/miniconda/lib/python3.12/site-packages (from torch) (1.13.1)\n",
            "Requirement already satisfied: mpmath<1.4,>=1.1.0 in /usr/local/miniconda/lib/python3.12/site-packages (from sympy==1.13.1->torch) (1.3.0)\n",
            "Requirement already satisfied: numpy in /usr/local/miniconda/lib/python3.12/site-packages (from torchvision) (1.26.4)\n",
            "Requirement already satisfied: pillow!=8.3.*,>=5.3.0 in /usr/local/miniconda/lib/python3.12/site-packages (from torchvision) (10.3.0)\n",
            "Requirement already satisfied: MarkupSafe>=2.0 in /usr/local/miniconda/lib/python3.12/site-packages (from jinja2->torch) (2.1.5)\n",
            "Downloading https://download.pytorch.org/whl/cu118/torch-2.6.0%2Bcu118-cp312-cp312-linux_x86_64.whl (848.7 MB)\n",
            "\u001b[2K   \u001b[90m━━━━━━━━━━━━━━━━━━━━━━━━━━━━━━━━━━━━━━━━\u001b[0m \u001b[32m848.7/848.7 MB\u001b[0m \u001b[31m34.5 MB/s\u001b[0m eta \u001b[36m0:00:00\u001b[0m\n",
            "\u001b[?25hDownloading https://download.pytorch.org/whl/cu118/torchvision-0.21.0%2Bcu118-cp312-cp312-linux_x86_64.whl (6.5 MB)\n",
            "\u001b[2K   \u001b[90m━━━━━━━━━━━━━━━━━━━━━━━━━━━━━━━━━━━━━━━━\u001b[0m \u001b[32m6.5/6.5 MB\u001b[0m \u001b[31m35.3 MB/s\u001b[0m eta \u001b[36m0:00:00\u001b[0m\n",
            "\u001b[?25hDownloading https://download.pytorch.org/whl/cu118/torchaudio-2.6.0%2Bcu118-cp312-cp312-linux_x86_64.whl (3.3 MB)\n",
            "\u001b[2K   \u001b[90m━━━━━━━━━━━━━━━━━━━━━━━━━━━━━━━━━━━━━━━━\u001b[0m \u001b[32m3.3/3.3 MB\u001b[0m \u001b[31m23.9 MB/s\u001b[0m eta \u001b[36m0:00:00\u001b[0m\n",
            "\u001b[?25hInstalling collected packages: torch, torchvision, torchaudio\n",
            "Successfully installed torch-2.6.0+cu118 torchaudio-2.6.0+cu118 torchvision-0.21.0+cu118\n"
          ]
        }
      ],
      "source": [
        "!pip uninstall torch torchvision torchaudio -y\n",
        "!pip cache purge\n",
        "!pip install torch torchvision torchaudio --index-url https://download.pytorch.org/whl/cu118\n"
      ]
    },
    {
      "cell_type": "code",
      "execution_count": null,
      "metadata": {
        "colab": {
          "base_uri": "https://localhost:8080/"
        },
        "id": "NjJFoTmyRPQI",
        "outputId": "b940b805-1835-44c2-89d1-9cf301c2cd9b"
      },
      "outputs": [
        {
          "name": "stdout",
          "output_type": "stream",
          "text": [
            "Python 3.11.11\n"
          ]
        }
      ],
      "source": [
        "!python --version"
      ]
    },
    {
      "cell_type": "code",
      "execution_count": null,
      "metadata": {
        "colab": {
          "base_uri": "https://localhost:8080/"
        },
        "id": "PS_ZOlqtSlR_",
        "outputId": "d202e65d-4ffb-4ec3-934b-aa7494a0ace3"
      },
      "outputs": [
        {
          "name": "stdout",
          "output_type": "stream",
          "text": [
            "Looking in indexes: https://download.pytorch.org/whl/nightly/cu118\n",
            "Requirement already satisfied: torch in /usr/local/miniconda/lib/python3.12/site-packages (2.6.0+cu118)\n",
            "Requirement already satisfied: torchvision in /usr/local/miniconda/lib/python3.12/site-packages (0.21.0+cu118)\n",
            "Requirement already satisfied: torchaudio in /usr/local/miniconda/lib/python3.12/site-packages (2.6.0+cu118)\n",
            "Requirement already satisfied: filelock in /usr/local/miniconda/lib/python3.12/site-packages (from torch) (3.13.1)\n",
            "Requirement already satisfied: typing-extensions>=4.10.0 in /usr/local/miniconda/lib/python3.12/site-packages (from torch) (4.12.2)\n",
            "Requirement already satisfied: networkx in /usr/local/miniconda/lib/python3.12/site-packages (from torch) (3.3)\n",
            "Requirement already satisfied: jinja2 in /usr/local/miniconda/lib/python3.12/site-packages (from torch) (3.1.4)\n",
            "Requirement already satisfied: fsspec in /usr/local/miniconda/lib/python3.12/site-packages (from torch) (2024.6.1)\n",
            "Requirement already satisfied: nvidia-cuda-nvrtc-cu11==11.8.89 in /usr/local/miniconda/lib/python3.12/site-packages (from torch) (11.8.89)\n",
            "Requirement already satisfied: nvidia-cuda-runtime-cu11==11.8.89 in /usr/local/miniconda/lib/python3.12/site-packages (from torch) (11.8.89)\n",
            "Requirement already satisfied: nvidia-cuda-cupti-cu11==11.8.87 in /usr/local/miniconda/lib/python3.12/site-packages (from torch) (11.8.87)\n",
            "Requirement already satisfied: nvidia-cudnn-cu11==9.1.0.70 in /usr/local/miniconda/lib/python3.12/site-packages (from torch) (9.1.0.70)\n",
            "Requirement already satisfied: nvidia-cublas-cu11==11.11.3.6 in /usr/local/miniconda/lib/python3.12/site-packages (from torch) (11.11.3.6)\n",
            "Requirement already satisfied: nvidia-cufft-cu11==10.9.0.58 in /usr/local/miniconda/lib/python3.12/site-packages (from torch) (10.9.0.58)\n",
            "Requirement already satisfied: nvidia-curand-cu11==10.3.0.86 in /usr/local/miniconda/lib/python3.12/site-packages (from torch) (10.3.0.86)\n",
            "Requirement already satisfied: nvidia-cusolver-cu11==11.4.1.48 in /usr/local/miniconda/lib/python3.12/site-packages (from torch) (11.4.1.48)\n",
            "Requirement already satisfied: nvidia-cusparse-cu11==11.7.5.86 in /usr/local/miniconda/lib/python3.12/site-packages (from torch) (11.7.5.86)\n",
            "Requirement already satisfied: nvidia-nccl-cu11==2.21.5 in /usr/local/miniconda/lib/python3.12/site-packages (from torch) (2.21.5)\n",
            "Requirement already satisfied: nvidia-nvtx-cu11==11.8.86 in /usr/local/miniconda/lib/python3.12/site-packages (from torch) (11.8.86)\n",
            "Requirement already satisfied: triton==3.2.0 in /usr/local/miniconda/lib/python3.12/site-packages (from torch) (3.2.0)\n",
            "Requirement already satisfied: setuptools in /usr/local/miniconda/lib/python3.12/site-packages (from torch) (75.8.0)\n",
            "Requirement already satisfied: sympy==1.13.1 in /usr/local/miniconda/lib/python3.12/site-packages (from torch) (1.13.1)\n",
            "Requirement already satisfied: mpmath<1.4,>=1.1.0 in /usr/local/miniconda/lib/python3.12/site-packages (from sympy==1.13.1->torch) (1.3.0)\n",
            "Requirement already satisfied: numpy in /usr/local/miniconda/lib/python3.12/site-packages (from torchvision) (1.26.4)\n",
            "Requirement already satisfied: pillow!=8.3.*,>=5.3.0 in /usr/local/miniconda/lib/python3.12/site-packages (from torchvision) (10.3.0)\n",
            "Requirement already satisfied: MarkupSafe>=2.0 in /usr/local/miniconda/lib/python3.12/site-packages (from jinja2->torch) (2.1.5)\n"
          ]
        }
      ],
      "source": [
        "!pip install --pre torch torchvision torchaudio --index-url https://download.pytorch.org/whl/nightly/cu118\n"
      ]
    },
    {
      "cell_type": "code",
      "execution_count": null,
      "metadata": {
        "id": "6fV8qy4ISzFH"
      },
      "outputs": [],
      "source": [
        "import matplotlib.pyplot as plt\n",
        "import cv2\n",
        "import glob\n",
        "\n",
        "# Path to results\n",
        "result_images = glob.glob(\"/content/3DDFA-V3/my_images/results/*.jpg\")  # Change to .png if needed\n",
        "\n",
        "# Show first 5 images\n",
        "for img_path in result_images[:5]:\n",
        "    img = cv2.imread(img_path)\n",
        "    img = cv2.cvtColor(img, cv2.COLOR_BGR2RGB)\n",
        "    plt.figure(figsize=(5,5))\n",
        "    plt.imshow(img)\n",
        "    plt.axis(\"off\")\n",
        "    plt.show()\n"
      ]
    },
    {
      "cell_type": "code",
      "execution_count": null,
      "metadata": {
        "id": "YiZ7xEoCU8dE"
      },
      "outputs": [],
      "source": []
    }
  ],
  "metadata": {
    "colab": {
      "provenance": []
    },
    "kernelspec": {
      "display_name": "Python 3",
      "name": "python3"
    },
    "language_info": {
      "name": "python"
    }
  },
  "nbformat": 4,
  "nbformat_minor": 0
}